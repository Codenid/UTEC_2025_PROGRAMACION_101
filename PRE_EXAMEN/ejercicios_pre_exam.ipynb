{
  "nbformat": 4,
  "nbformat_minor": 0,
  "metadata": {
    "colab": {
      "provenance": [],
      "include_colab_link": true
    },
    "kernelspec": {
      "name": "python3",
      "display_name": "Python 3"
    },
    "language_info": {
      "name": "python"
    }
  },
  "cells": [
    {
      "cell_type": "markdown",
      "metadata": {
        "id": "view-in-github",
        "colab_type": "text"
      },
      "source": [
        "<a href=\"https://colab.research.google.com/github/Codenid/UTEC_2025_PROGRAMACION_101/blob/main/PRE_EXAMEN/ejercicios_pre_exam.ipynb\" target=\"_parent\"><img src=\"https://colab.research.google.com/assets/colab-badge.svg\" alt=\"Open In Colab\"/></a>"
      ]
    },
    {
      "cell_type": "markdown",
      "source": [
        "<img src=\"https://posgrado.utec.edu.pe/sites/default/files/2023-08/Testimonial-home-2.jpg\" alt=\"HTML5 Icon\" width=\"900\" height=\"250\" >\n"
      ],
      "metadata": {
        "id": "a8zyMsSvRXp5"
      }
    },
    {
      "cell_type": "markdown",
      "source": [
        "#**Preguntas Tipo - Programación 101**\n",
        "## **Examen 1**"
      ],
      "metadata": {
        "id": "9zJeD0SAM13Y"
      }
    },
    {
      "cell_type": "markdown",
      "source": [
        "Restricción: No usar bucles (for, while), funciones definidas (def), ni listas.\n",
        "Usar únicamente variables, condicionales (if, elif, else), operaciones básicas, entrada (input()) y salida (print()).\n",
        "\n"
      ],
      "metadata": {
        "id": "eFGrD-AYNEbv"
      }
    },
    {
      "cell_type": "markdown",
      "source": [
        "###**Pregunta 1:**\n",
        "**Verificación numérica sencilla**\n",
        "\n",
        "Ingresa un número entero de dos dígitos y verifica si ambos dígitos son iguales."
      ],
      "metadata": {
        "id": "Y6CsgRhINSz6"
      }
    },
    {
      "cell_type": "code",
      "source": [
        "#Ejemplo:\n",
        "#Entrada: 44\n",
        "#Salida: Dígitos iguales"
      ],
      "metadata": {
        "id": "2jhsmLYPNTW9"
      },
      "execution_count": null,
      "outputs": []
    },
    {
      "cell_type": "code",
      "source": [
        "# Your code starts here\n",
        "\n",
        "number_str = input(\"Ingrese un número de dos dígitos: \").strip()\n",
        "\n",
        "condition_is_number = number_str.isdigit()\n",
        "condition_two_digits = len(number_str) == 2\n",
        "condition_same_digit = number_str[0] == number_str[1]\n",
        "\n",
        "if not condition_is_number:\n",
        "  print(\"Debe ingresar un valor numérico\")\n",
        "elif not condition_two_digits:\n",
        "  print(\"Debe ingresar un número de dos dígitos\")\n",
        "elif condition_same_digit:\n",
        "  print(\"Dígitos iguales\")\n",
        "else:\n",
        "  print(\"Los dígitos son diferentes\")\n",
        "\n",
        "# Your code ends here"
      ],
      "metadata": {
        "id": "J5AUksDbNqEV",
        "colab": {
          "base_uri": "https://localhost:8080/"
        },
        "outputId": "e74566af-0ed3-4e1f-c1e3-d66298fccead"
      },
      "execution_count": 35,
      "outputs": [
        {
          "output_type": "stream",
          "name": "stdout",
          "text": [
            "Ingrese un número de dos dígitos: 1.1\n",
            "Debe ingresar un valor numérico\n"
          ]
        }
      ]
    },
    {
      "cell_type": "markdown",
      "source": [
        "###**Pregunta 2:**\n",
        "**Clasificación de letra**\n",
        "\n",
        "Dado un carácter ingresado, determina si es consonante minúscula, consonante mayúscula o no consonante.\n"
      ],
      "metadata": {
        "id": "bOruUQBZNrIT"
      }
    },
    {
      "cell_type": "code",
      "source": [
        "#Ejemplo:\n",
        "#Entrada: \"G\"\n",
        "#Salida: Consonante MAYÚSCULA"
      ],
      "metadata": {
        "id": "q9nphTXnN2e-"
      },
      "execution_count": null,
      "outputs": []
    },
    {
      "cell_type": "code",
      "source": [
        "# Your code starts here\n",
        "\n",
        "VOWELS = \"aeiou\"\n",
        "\n",
        "character_input = input(\"Ingrese un carácter: \").strip()\n",
        "\n",
        "condition_has_one_character = len(character_input) == 1\n",
        "condition_is_letter = character_input.isalpha()\n",
        "condition_is_vocal = character_input.lower() in VOWELS\n",
        "condition_is_lowercase = character_input.islower()\n",
        "condition_is_uppercase = character_input.isupper()\n",
        "\n",
        "if not condition_has_one_character:\n",
        "  print(\"Debe ingresar un solo carácter\")\n",
        "elif not condition_is_letter:\n",
        "  print(\"Debe ingresar una letra\")\n",
        "elif condition_is_vocal:\n",
        "  print(\"No es una consonante\")\n",
        "elif condition_is_lowercase:\n",
        "  print(\"Consonante minúscula\")\n",
        "elif condition_is_uppercase:\n",
        "  print(\"Consonante MAYÚSCULA\")\n",
        "\n",
        "# Your code ends here"
      ],
      "metadata": {
        "id": "6D49YSMAN5VP",
        "colab": {
          "base_uri": "https://localhost:8080/"
        },
        "outputId": "e170a6b6-550a-4c82-c89b-e2b7846f1719"
      },
      "execution_count": null,
      "outputs": [
        {
          "output_type": "stream",
          "name": "stdout",
          "text": [
            "Ingrese un carácter:    a    \n",
            "No es una consonante\n"
          ]
        }
      ]
    },
    {
      "cell_type": "markdown",
      "source": [
        "###**Pregunta 3:**\n",
        "**Verificador de año bisiesto simplificado**\n",
        "\n",
        "Ingresa un año y determina si es bisiesto (divisible entre 4) o no.\n"
      ],
      "metadata": {
        "id": "bd7DcYvbN5yU"
      }
    },
    {
      "cell_type": "code",
      "source": [
        "#Ejemplo\n",
        "#Entrada: 2024\n",
        "#Salida: Bisiesto"
      ],
      "metadata": {
        "id": "gW-9lUhwOFuq"
      },
      "execution_count": null,
      "outputs": []
    },
    {
      "cell_type": "code",
      "source": [
        "# Your code starts here\n",
        "\n",
        "year_input = input(\"Ingrese un año: \").strip()\n",
        "\n",
        "condition_is_number = year_input.isdigit()\n",
        "\n",
        "if not condition_is_number:\n",
        "  print(\"Debe ingresar un año válido\")\n",
        "else:\n",
        "  condition_is_year_valid = int(year_input) > 0\n",
        "  condition_is_leap_year = int(year_input) % 4 == 0\n",
        "\n",
        "  if not condition_is_year_valid:\n",
        "      print(\"Debe ingresar un año > 0\")\n",
        "  elif condition_is_leap_year:\n",
        "      print(\"Bisiesto\")\n",
        "  else:\n",
        "    print(\"No es bisiesto\")\n",
        "\n",
        "# Your code ends here"
      ],
      "metadata": {
        "id": "rguN-tC3OESX",
        "colab": {
          "base_uri": "https://localhost:8080/"
        },
        "outputId": "da5f37f8-59b3-4011-8943-35320bc946c0"
      },
      "execution_count": 34,
      "outputs": [
        {
          "output_type": "stream",
          "name": "stdout",
          "text": [
            "Ingrese un año: 1234.4\n",
            "Debe ingresar un año válido\n"
          ]
        }
      ]
    },
    {
      "cell_type": "code",
      "source": [
        "2023.2 % 1"
      ],
      "metadata": {
        "colab": {
          "base_uri": "https://localhost:8080/"
        },
        "id": "CsCieevSGPO2",
        "outputId": "43b83d12-f7f4-42c7-cff1-62b57f268942"
      },
      "execution_count": null,
      "outputs": [
        {
          "output_type": "execute_result",
          "data": {
            "text/plain": [
              "0.20000000000004547"
            ]
          },
          "metadata": {},
          "execution_count": 51
        }
      ]
    },
    {
      "cell_type": "markdown",
      "source": [
        "###**Pregunta 4:**\n",
        "**Rango numérico**\n",
        "\n",
        "Ingresa un número y verifica si está dentro del rango [10-20] inclusive o fuera del mismo."
      ],
      "metadata": {
        "id": "iNdvTtA6Qbwe"
      }
    },
    {
      "cell_type": "code",
      "source": [
        "#Ejemplo:\n",
        "#Entrada: 15\n",
        "#Salida: Dentro del rango"
      ],
      "metadata": {
        "id": "vBEZbQ4ZPoCd"
      },
      "execution_count": null,
      "outputs": []
    },
    {
      "cell_type": "code",
      "source": [
        "# Your code starts here\n",
        "\n",
        "# Solicitar input\n",
        "number_input = input(\"Ingrese un número (entero o decimal): \").strip()\n",
        "\n",
        "# Inicializar variables\n",
        "if_valid_number = True\n",
        "\n",
        "# Validación 1: Contiene solo dígitos, un punto y/o un signo negativo\n",
        "number_input_clean = number_input.replace('.', '', 1).replace('-', '', 1)\n",
        "if not number_input_clean.isdigit():\n",
        "    if_valid_number = False\n",
        "\n",
        "# Validación 2: Máximo un punto decimal\n",
        "if number_input.count('.') > 1:\n",
        "    if_valid_number = False\n",
        "\n",
        "# Validación 3: Máximo un signo negativo\n",
        "if number_input.count('-') > 1:\n",
        "    if_valid_number = False\n",
        "\n",
        "# Validación 4: Si tiene signo negativo, debe estar al inicio\n",
        "if '-' in number_input and number_input.find('-') != 0:\n",
        "    if_valid_number = False\n",
        "\n",
        "# Procesamiento si es válido\n",
        "if if_valid_number:\n",
        "    number = float(number_input)\n",
        "    if 10 <= number <= 20:\n",
        "      print(f\"El número ingresado '{number_input}' está dentro del rango\")\n",
        "    else:\n",
        "      print(f\"El número ingresado '{number_input}' está fuera del rango\")\n",
        "else:\n",
        "    print(\"Error: Debe ingresar solo números (ej: 5, -3.14)\")\n",
        "\n",
        "# Your code ends here"
      ],
      "metadata": {
        "id": "teGjrMo1PqK2",
        "outputId": "ed7ce738-060c-40cc-a0e5-68f5e9156221",
        "colab": {
          "base_uri": "https://localhost:8080/"
        }
      },
      "execution_count": 31,
      "outputs": [
        {
          "output_type": "stream",
          "name": "stdout",
          "text": [
            "Ingrese un número (entero o decimal): s\n",
            "Error: Debe ingresar solo números (ej: 5, -3.14)\n"
          ]
        }
      ]
    },
    {
      "cell_type": "markdown",
      "source": [
        "###**Pregunta 5:**\n",
        "**Código especial (2 dígitos)**\n",
        "\n",
        "Ingresa un número de dos dígitos. Determina si la multiplicación de ambos dígitos es mayor a 20."
      ],
      "metadata": {
        "id": "U3ct-SRkQhTS"
      }
    },
    {
      "cell_type": "code",
      "source": [
        "#Ejemplo:\n",
        "#Entrada: 57  (5×7=35)\n",
        "#Salida: Producto mayor a 20"
      ],
      "metadata": {
        "id": "l75HDOQ7Qky_"
      },
      "execution_count": null,
      "outputs": []
    },
    {
      "cell_type": "code",
      "source": [
        "# Your code starts here\n",
        "\n",
        "number_input = input(\"Ingrese un número de dos dígitos: \").strip()\n",
        "\n",
        "condition_is_number = number_input.isdigit()\n",
        "condition_two_digits = len(number_input) == 2\n",
        "\n",
        "if not condition_is_number:\n",
        "  print(\"Debe ingresar un valor numérico\")\n",
        "elif not condition_two_digits:\n",
        "  print(\"Debe ingresar un número de dos dígitos\")\n",
        "else :\n",
        "  first_digit = int(number_input[0])\n",
        "  second_digit = int(number_input[1])\n",
        "  product = first_digit * second_digit\n",
        "\n",
        "  if product > 20:\n",
        "    print(f\"El resultado de multiplicar {first_digit} x {second_digit} = {product} es mayor a 20.\")\n",
        "  else:\n",
        "    print(f\"El resultado de multiplicar {first_digit} x {second_digit} = {product} es menor o igual a 20.\")\n",
        "\n",
        "# Your code ends here"
      ],
      "metadata": {
        "id": "Z3uRcAcaQnGP",
        "outputId": "fa0ac062-5efc-47f9-cf0c-a83ac29c51a6",
        "colab": {
          "base_uri": "https://localhost:8080/"
        }
      },
      "execution_count": 40,
      "outputs": [
        {
          "output_type": "stream",
          "name": "stdout",
          "text": [
            "Ingrese un número de dos dígitos: 66\n",
            "El resultado de multiplicar 6 x 6 = 36 es mayor a 20.\n"
          ]
        }
      ]
    },
    {
      "cell_type": "markdown",
      "source": [
        "###**Pregunta 6:**\n",
        "**Comparador de caracteres**\n",
        "\n",
        "Ingresa dos caracteres e indica cuál tiene mayor valor ASCII. Si son iguales, indícalo."
      ],
      "metadata": {
        "id": "9gtPmEjiQpSy"
      }
    },
    {
      "cell_type": "code",
      "source": [
        "#Ejemplo:\n",
        "#Entrada: a, b\n",
        "#Salida: Segundo mayor"
      ],
      "metadata": {
        "id": "eTtpZLqUQsEH"
      },
      "execution_count": null,
      "outputs": []
    },
    {
      "cell_type": "code",
      "source": [
        "# Your code starts here\n",
        "\n",
        "# Solicitar los dos caracteres al usuario\n",
        "caracter1 = input(\"Ingrese el primer carácter: \")\n",
        "caracter2 = input(\"Ingrese el segundo carácter: \")\n",
        "\n",
        "# Verificar que se hayan ingresado exactamente un carácter cada uno\n",
        "if len(caracter1) == 1 and len(caracter2) == 1:\n",
        "    # Obtener los valores ASCII usando ord()\n",
        "    ascii1 = ord(caracter1)\n",
        "    ascii2 = ord(caracter2)\n",
        "\n",
        "    # Comparar los valores\n",
        "    if ascii1 > ascii2:\n",
        "        print(f\"'{caracter1}' tiene mayor valor ASCII ({ascii1}) que '{caracter2}' ({ascii2})\")\n",
        "    elif ascii2 > ascii1:\n",
        "        print(f\"'{caracter2}' tiene mayor valor ASCII ({ascii2}) que '{caracter1}' ({ascii1})\")\n",
        "    else:\n",
        "        print(f\"Ambos caracteres '{caracter1}' y '{caracter2}' tienen el mismo valor ASCII ({ascii1})\")\n",
        "else:\n",
        "    print(\"Error: Debe ingresar exactamente un carácter en cada caso\")\n",
        "\n",
        "# Your code ends here"
      ],
      "metadata": {
        "id": "M-OcrIy8QstB",
        "outputId": "1b48bd48-f2b1-46a8-dd4f-0887c173f5e7",
        "colab": {
          "base_uri": "https://localhost:8080/"
        }
      },
      "execution_count": 46,
      "outputs": [
        {
          "output_type": "stream",
          "name": "stdout",
          "text": [
            "El primer caracter 'a' es mayor al segundo '2'\n"
          ]
        }
      ]
    },
    {
      "cell_type": "markdown",
      "source": [
        "\n",
        "###**Pregunta 7:**\n",
        "**Contraseña numérica corta**\n",
        "\n",
        "Verifica una contraseña numérica de 3 cifras ingresada por el usuario. La contraseña válida es 369.\n"
      ],
      "metadata": {
        "id": "DbRYWtFaQuYU"
      }
    },
    {
      "cell_type": "code",
      "source": [
        "#Ejemplo:\n",
        "#Entrada: 369\n",
        "#Salida: Acceso autorizado"
      ],
      "metadata": {
        "id": "fO9BNFo4QYbN"
      },
      "execution_count": null,
      "outputs": []
    },
    {
      "cell_type": "code",
      "source": [
        "# Your code starts here\n",
        "\n",
        "password = input(\"Ingrese la contraseña numérica de 3 cifras: \").strip()\n",
        "\n",
        "condition_len_password = len(password) == 3\n",
        "condition_is_number = password.isdigit()\n",
        "condition_password_valid = password == \"369\"\n",
        "\n",
        "if not condition_len_password or not condition_is_number:\n",
        "  print(\"Debe ingresar una contraseña numérica de 3 cifras\")\n",
        "elif condition_password_valid:\n",
        "  print(\"Acceso autorizado\")\n",
        "else:\n",
        "  print(\"Acceso denegado\")\n",
        "\n",
        "# Your code ends here"
      ],
      "metadata": {
        "id": "d95lnFx3QYFL",
        "outputId": "c71e2c0a-daea-43af-f825-09dcd3c81ddf",
        "colab": {
          "base_uri": "https://localhost:8080/"
        }
      },
      "execution_count": 52,
      "outputs": [
        {
          "output_type": "stream",
          "name": "stdout",
          "text": [
            "Ingrese la contraseña numérica de 3 cifras: 369\n",
            "Acceso autorizado\n"
          ]
        }
      ]
    },
    {
      "cell_type": "markdown",
      "source": [
        "###**Pregunta 8:**\n",
        "**Vocales seguidas**\n",
        "\n",
        "Ingresa dos letras, determina si ambas son vocales (mayúsculas o minúsculas).\n"
      ],
      "metadata": {
        "id": "Ltt7Y9EhQSaa"
      }
    },
    {
      "cell_type": "code",
      "source": [
        "#Ejemplo:\n",
        "#Entrada: a, E\n",
        "#Salida: Ambas son vocales"
      ],
      "metadata": {
        "id": "H_h9E0CoQTMS"
      },
      "execution_count": null,
      "outputs": []
    },
    {
      "cell_type": "code",
      "source": [
        "# Your code starts here\n",
        "\n",
        "vowel_one = input(\"Ingrese la primera letra: \").strip()\n",
        "vowel_two = input(\"Ingrese la segunda letra: \").strip()\n",
        "\n",
        "if len(vowel_one) != 1 or len(vowel_two) != 1:\n",
        "  print(\"Debe ingresar exactamente una letra en cada caso\")\n",
        "elif vowel_one.lower() in \"aeiou\" and vowel_two.lower() in \"aeiou\":\n",
        "  print(\"Ambas son vocales\")\n",
        "else:\n",
        "  print(\"No son vocales\")\n",
        "\n",
        "# Your code ends here"
      ],
      "metadata": {
        "id": "tqwQPMJ9QVRK",
        "outputId": "06a63168-ea34-4e79-a847-ed6192f74de5",
        "colab": {
          "base_uri": "https://localhost:8080/"
        }
      },
      "execution_count": 55,
      "outputs": [
        {
          "output_type": "stream",
          "name": "stdout",
          "text": [
            "Ingrese la primera letra: A\n",
            "Ingrese la segunda letra: E\n",
            "Ambas son vocales\n"
          ]
        }
      ]
    },
    {
      "cell_type": "markdown",
      "source": [
        "---\n",
        "\n",
        "# Gracias por completar este laboratorio!\n",
        "\n",
        "---\n"
      ],
      "metadata": {
        "id": "eu9RJbEMRbUd"
      }
    }
  ]
}