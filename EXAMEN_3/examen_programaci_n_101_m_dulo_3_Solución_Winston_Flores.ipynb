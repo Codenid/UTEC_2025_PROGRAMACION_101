{
  "nbformat": 4,
  "nbformat_minor": 0,
  "metadata": {
    "colab": {
      "provenance": [],
      "name": "examen_programaci-n_101_m-dulo_3_Winston Flores.ipynb",
      "include_colab_link": true
    },
    "kernelspec": {
      "name": "python3",
      "display_name": "Python 3"
    },
    "language_info": {
      "name": "python"
    }
  },
  "cells": [
    {
      "cell_type": "markdown",
      "metadata": {
        "id": "view-in-github",
        "colab_type": "text"
      },
      "source": [
        "<a href=\"https://colab.research.google.com/github/Codenid/UTEC_2025_PROGRAMACION_101/blob/main/EXAMEN_3/examen_programaci_n_101_m_dulo_3_Soluci%C3%B3n_Winston_Flores.ipynb\" target=\"_parent\"><img src=\"https://colab.research.google.com/assets/colab-badge.svg\" alt=\"Open In Colab\"/></a>"
      ]
    },
    {
      "cell_type": "markdown",
      "source": [
        "<img src=\"https://posgrado.utec.edu.pe/sites/default/files/2023-08/Testimonial-home-2.jpg\" alt=\"HTML5 Icon\" width=\"900\" height=\"250\" >"
      ],
      "metadata": {
        "id": "F0pagrVwedlT"
      }
    },
    {
      "cell_type": "markdown",
      "source": [
        "#**Examen Programación 101 – Módulo 3**"
      ],
      "metadata": {
        "id": "n0QIu7WQMANP"
      }
    },
    {
      "cell_type": "markdown",
      "source": [
        "**Contexto:**\n",
        "\n",
        "Estás colaborando con un equipo de analistas que trabaja en el diseño de herramientas básicas para preparar, limpiar y analizar datos antes de que sean utilizados por científicos de datos. Estas herramientas deben ejecutarse en entornos controlados, sin acceso a librerías externas y con requisitos mínimos de procesamiento.\n",
        "\n",
        "Cada ejercicio del examen representa uno de los desafíos que debes resolver como parte del equipo de soporte analítico: desde calcular estadísticas básicas, limpiar entradas de texto, hasta realizar predicciones sencillas con modelos lineales simulados."
      ],
      "metadata": {
        "id": "miMQKZv6MHrC"
      }
    },
    {
      "cell_type": "markdown",
      "source": [
        "\n",
        "\n",
        "**Nombre y Apellido:** Winston Flores Quispe\n",
        "\n",
        "---"
      ],
      "metadata": {
        "id": "ivo0N7RXM0VM"
      }
    },
    {
      "cell_type": "markdown",
      "source": [
        "Duración: 45 minutos\n"
      ],
      "metadata": {
        "id": "5UN_MQy1M76N"
      }
    },
    {
      "cell_type": "markdown",
      "source": [
        "**Instrucciones**\n",
        "\n",
        "Puedes utilizar:\n",
        "\n",
        "- Definición de funciones (def)\n",
        "\n",
        "- Creación de clases (class)\n",
        "\n",
        "- Listas, strings, diccionarios, operadores, condicionales, bucles\n",
        "\n",
        "- Funciones integradas como sum(), len(), max(), min(), sorted()\n",
        "\n",
        "- No uses pandas, numpy, matplotlib, ni lectura de archivos.\n",
        "\n",
        "Se evaluará no solo la respuesta correcta, sino también la claridad del código, las buenas prácticas (nombres descriptivos, comentarios si es necesario), el uso adecuado de estructuras de datos y la lógica general."
      ],
      "metadata": {
        "id": "JXUtBQpVM_Da"
      }
    },
    {
      "cell_type": "markdown",
      "source": [
        "**Pregunta 1 – Estadística simple**"
      ],
      "metadata": {
        "id": "EpERA8PAN-wz"
      }
    },
    {
      "cell_type": "markdown",
      "source": [
        "Dado el siguiente conjunto de datos:\n",
        "```\n",
        "valores = [12, 17, 15, 21, 17, 18, 15, 19, 21, 17]\n",
        "```\n",
        "Escribe una función resumen_estadistico(lista) que retorne un diccionario con las siguientes claves:\n",
        "\n",
        "- \"promedio\": promedio de los valores\n",
        "\n",
        "- \"min\": valor mínimo\n",
        "\n",
        "- \"max\": valor máximo\n",
        "\n",
        "- \"moda\": valor que más veces se repite en la lista"
      ],
      "metadata": {
        "id": "guv8XWUSOBdx"
      }
    },
    {
      "cell_type": "code",
      "execution_count": 35,
      "metadata": {
        "id": "_R4-sqZ1LhZL",
        "colab": {
          "base_uri": "https://localhost:8080/"
        },
        "outputId": "2b71d411-6dc0-4062-ed68-b88fe56f0c1f"
      },
      "outputs": [
        {
          "output_type": "stream",
          "name": "stdout",
          "text": [
            "{'promedio': 17.2, 'min': 12, 'max': 21, 'moda': 17}\n",
            "{'Error', 'Debe ingresar valores para la función'}\n",
            "{'promedio': 12, 'min': 12, 'max': 12, 'moda': 12}\n"
          ]
        }
      ],
      "source": [
        "# Your code starts here\n",
        "def resumen_estadistico(lista:list) -> dict:\n",
        "  \"\"\"Funcion que retorna promedio, minimo, maximo y moda de una lista de numeros\"\"\"\n",
        "\n",
        "  if not lista:\n",
        "    return {\"Alerta\", \"Debe ingresar valores para la función\"}\n",
        "  elif len(lista) == 1:\n",
        "    return {\"promedio\": lista[0], \"min\": lista[0], \"max\": lista[0], \"moda\": lista[0]}\n",
        "\n",
        "  promedio = sum(lista)/len(lista)\n",
        "  minimo = min(lista)\n",
        "  maximo = max(lista)\n",
        "  moda = max(set(lista), key=lista.count)\n",
        "\n",
        "  return {\"promedio\": promedio, \"min\": minimo, \"max\": maximo, \"moda\": moda}\n",
        "\n",
        "# Ejemplo de uso\n",
        "valores = [12, 17, 15, 21, 17, 18, 15, 19, 21, 17]\n",
        "print(resumen_estadistico(valores))\n",
        "\n",
        "valores = []\n",
        "print(resumen_estadistico(valores))\n",
        "\n",
        "valores = [12]\n",
        "print(resumen_estadistico(valores))\n",
        "\n",
        "# Your code ends here"
      ]
    },
    {
      "cell_type": "markdown",
      "source": [
        "**Pregunta 2 – Limpieza de texto**"
      ],
      "metadata": {
        "id": "3rV2t5cXOOve"
      }
    },
    {
      "cell_type": "markdown",
      "source": [
        "Tienes la siguiente lista con nombres ingresados de forma inconsistente:\n",
        "```\n",
        "nombres = [\" ana \", \"LUIS\", \"cAmila \", \"JORGE\", \" sofiA\"]\n",
        "```\n",
        "Crea una función normalizar_nombres(lista) que:\n",
        "\n",
        "- Elimine espacios adicionales al inicio o final de cada nombre\n",
        "\n",
        "- Convierta todos los nombres a formato título (por ejemplo: \"Camila\")\n",
        "\n",
        "Devuelve una nueva lista con los nombres normalizados."
      ],
      "metadata": {
        "id": "TLFj-jI-OYwu"
      }
    },
    {
      "cell_type": "code",
      "source": [
        "# Your code starts here\n",
        "def normalizar_nombres(lista:list) -> list:\n",
        "  \"\"\"Funcion que normaliza una lista de nombres\"\"\"\n",
        "  if not lista:\n",
        "    return [{\"Alerta\", \"Debe ingresar su lista de nombres para la función\"}]\n",
        "\n",
        "  return [nombre.strip().title() for nombre in lista]\n",
        "\n",
        "# Ejemplo de uso\n",
        "nombres = [\" ana \", \"LUIS\", \"cAmila \", \"JORGE\", \" sofiA\"]\n",
        "print(normalizar_nombres(nombres))\n",
        "\n",
        "nombres = []\n",
        "print(normalizar_nombres(nombres))\n",
        "\n",
        "# Your code ends here"
      ],
      "metadata": {
        "id": "Yeuwf3fWOftV",
        "colab": {
          "base_uri": "https://localhost:8080/"
        },
        "outputId": "3abae784-d982-4b45-de74-56b6348f9be5"
      },
      "execution_count": 38,
      "outputs": [
        {
          "output_type": "stream",
          "name": "stdout",
          "text": [
            "['Ana', 'Luis', 'Camila', 'Jorge', 'Sofia']\n",
            "[{'Error', 'Debe ingresar su lista de nombres para la función'}]\n"
          ]
        }
      ]
    },
    {
      "cell_type": "markdown",
      "source": [
        "**Pregunta 3 – Clasificador por edad**"
      ],
      "metadata": {
        "id": "qzum0ADEOk-a"
      }
    },
    {
      "cell_type": "markdown",
      "source": [
        "Crea una clase ClasificadorEdad con un atributo edad.\n",
        "La clase debe tener un método:\n",
        "\n",
        "clasificar() -> str\n",
        "Que devuelva según la edad:\n",
        "\n",
        "- \"Niño\" si es menor de 13\n",
        "\n",
        "- \"Adolescente\" si tiene entre 13 y 17 años\n",
        "\n",
        "- \"Adulto\" si tiene entre 18 y 59 años\n",
        "\n",
        "- \"Adulto mayor\" si tiene 60 o más"
      ],
      "metadata": {
        "id": "xS7revZCOoZ1"
      }
    },
    {
      "cell_type": "code",
      "source": [
        "# Your code starts here\n",
        "class ClasificadorEdad:\n",
        "  \"\"\"Clase que clasifica una persona por su edad\"\"\"\n",
        "\n",
        "  def __init__(self, edad):\n",
        "    \"\"\"Constructor de la clase ClasificadorEdad\"\"\"\n",
        "    self.edad = edad\n",
        "\n",
        "  def clasificar(self) -> str:\n",
        "    \"\"\"Funcion que clasifica una persona por su edad\"\"\"\n",
        "\n",
        "    if self.edad < 0:\n",
        "      return \"Edad no válida\"\n",
        "    if self.edad < 13:\n",
        "      return \"Niño\"\n",
        "    if self.edad < 18:\n",
        "      return \"Adolescente\"\n",
        "    if self.edad < 60:\n",
        "      return \"Adulto\"\n",
        "    return \"Adulto mayor\"\n",
        "\n",
        "# Ejemplo de uso\n",
        "persona1 = ClasificadorEdad(-1)\n",
        "print(persona1.clasificar())\n",
        "\n",
        "persona1 = ClasificadorEdad(2)\n",
        "print(persona1.clasificar())\n",
        "\n",
        "persona1 = ClasificadorEdad(17)\n",
        "print(persona1.clasificar())\n",
        "\n",
        "persona1 = ClasificadorEdad(23)\n",
        "print(persona1.clasificar())\n",
        "\n",
        "persona1 = ClasificadorEdad(65)\n",
        "print(persona1.clasificar())\n",
        "\n",
        "# Your code ends here"
      ],
      "metadata": {
        "id": "TEedziL-Oosu",
        "colab": {
          "base_uri": "https://localhost:8080/"
        },
        "outputId": "88965618-f567-4fdd-dca3-7619781175e5"
      },
      "execution_count": 47,
      "outputs": [
        {
          "output_type": "stream",
          "name": "stdout",
          "text": [
            "Edad no válida\n",
            "Niño\n",
            "Adolescente\n",
            "Adulto\n",
            "Adulto mayor\n"
          ]
        }
      ]
    },
    {
      "cell_type": "markdown",
      "source": [
        "**Pregunta 4 – Palabras clave en encuestas**"
      ],
      "metadata": {
        "id": "O7K1bCleO3du"
      }
    },
    {
      "cell_type": "markdown",
      "source": [
        "Tienes una lista con respuestas abiertas de una encuesta:\n",
        "```\n",
        "respuestas = [\n",
        "    \"Me gusta la visualización de datos\",\n",
        "    \"La estadística es clave\",\n",
        "    \"Aprender programación mejora la productividad\",\n",
        "    \"Los gráficos me ayudan a entender\"]\n",
        "```\n",
        "Crea una función contar_palabras_clave(respuestas: list, palabra: str) que:\n",
        "\n",
        "- Retorne cuántas frases contienen la palabra dada, sin importar mayúsculas o minúsculas.\n",
        "\n",
        "Ejemplo:\n",
        "contar_palabras_clave(respuestas, \"datos\") → 1\n",
        "\n"
      ],
      "metadata": {
        "id": "Y7kadRyfPBG_"
      }
    },
    {
      "cell_type": "code",
      "source": [
        "# Your code starts here\n",
        "def contar_palabras_clave(respuestas: list, palabra: str) -> int:\n",
        "  \"\"\"Funcion que cuenta el numero de frases que contienen una palabra dada\"\"\"\n",
        "  palabra = palabra.lower()\n",
        "  return sum(1 for respuesta in respuestas if palabra in respuesta.lower())\n",
        "\n",
        "# Ejemplo de uso\n",
        "respuestas = [\n",
        "    \"Me gusta la visualización de datos\",\n",
        "    \"La estadística es clave\",\n",
        "    \"Aprender programación mejora la productividad\",\n",
        "    \"Los gráficos me ayudan a entender\"]\n",
        "\n",
        "print(contar_palabras_clave(respuestas, \"datos\"))\n",
        "print(contar_palabras_clave(respuestas, \"nunca\"))\n",
        "print(contar_palabras_clave(respuestas, \"la\"))\n",
        "\n",
        "# Your code ends here"
      ],
      "metadata": {
        "id": "4WP3pEgvOuMd",
        "colab": {
          "base_uri": "https://localhost:8080/"
        },
        "outputId": "df2b2c1a-e787-4bd1-d4ab-201d8cf19a4e"
      },
      "execution_count": 50,
      "outputs": [
        {
          "output_type": "stream",
          "name": "stdout",
          "text": [
            "1\n",
            "0\n",
            "3\n"
          ]
        }
      ]
    },
    {
      "cell_type": "markdown",
      "source": [
        "**Pregunta 5 – Validación de códigos de experimento**"
      ],
      "metadata": {
        "id": "MdencFSGPmo1"
      }
    },
    {
      "cell_type": "markdown",
      "source": [
        "Tienes una lista con códigos de experimento ingresados por diferentes usuarios:\n",
        "\n",
        "```\n",
        "codigos = [\"EXP2023A\", \"EXP_23\", \"EXPERIMENTO_2023\", \"exp2023b\"]\n",
        "```\n",
        "\n",
        "Crea una función validar_codigos(lista) que retorne una nueva lista con los códigos válidos, donde:\n",
        "\n",
        "- Empiecen por \"EXP\" (en mayúsculas)\n",
        "\n",
        "- Tengan exactamente 8 caracteres"
      ],
      "metadata": {
        "id": "KBMve8sQPp8J"
      }
    },
    {
      "cell_type": "code",
      "source": [
        "# Your code starts here\n",
        "def validar_codigos(lista: list) -> list:\n",
        "  \"\"\"Funcion que valida una lista de codigos\n",
        "  Empiecen por \"EXP\" (en mayúsculas)\n",
        "  Tengan exactamente 8 caracteres\"\"\"\n",
        "  if not lista:\n",
        "    return [{\"Alerta\", \"Debe ingresar su lista de codigos para la función\"}]\n",
        "\n",
        "  return [codigo for codigo in lista if codigo.startswith(\"EXP\") and len(codigo) == 8]\n",
        "\n",
        "# Ejemplo de uso\n",
        "codigos = [\"EXP2023A\", \"EXP_23\", \"EXPERIMENTO_2023\", \"exp2023b\", \"exp2023b\"]\n",
        "print(validar_codigos(codigos))\n",
        "\n",
        "\n",
        "codigos = [\"EXP____A\", \"EXP____B\",\"EXP_23\", \"EXPERIMENTO_2023\", \"exp2023b\", \"exp2023b\"]\n",
        "print(validar_codigos(codigos))\n",
        "\n",
        "# Your code ends here"
      ],
      "metadata": {
        "id": "SUaTp_yjO24X",
        "colab": {
          "base_uri": "https://localhost:8080/"
        },
        "outputId": "323319e8-652e-45bd-bbdd-b403063fded5"
      },
      "execution_count": 53,
      "outputs": [
        {
          "output_type": "stream",
          "name": "stdout",
          "text": [
            "['EXP2023A']\n",
            "['EXP____A', 'EXP____B']\n"
          ]
        }
      ]
    },
    {
      "cell_type": "markdown",
      "source": [
        "**Pregunta 6 – Modelo lineal simple**"
      ],
      "metadata": {
        "id": "U3NjngoxPyv9"
      }
    },
    {
      "cell_type": "markdown",
      "source": [
        "Crea una clase ModeloLineal que simule un modelo de regresión con fórmula:\n",
        "```\n",
        "y = m * x + b\n",
        "```\n",
        "\n",
        "La clase debe tener:\n",
        "\n",
        "Atributos: m (pendiente), b (intercepto)\n",
        "\n",
        "\n",
        "Método predecir(x) que:\n",
        "\n",
        "- Si x es un número, devuelve la predicción correspondiente\n",
        "\n",
        "- Si x es una lista de números, devuelve una lista de predicciones\n",
        "\n",
        "\n",
        "Ejemplo:\n",
        "```\n",
        "modelo = ModeloLineal(2, 3)\n",
        "modelo.predecir([1, 2, 3])  #debe retornar [5, 7, 9]\n",
        "```"
      ],
      "metadata": {
        "id": "_N3vpCZkP1sr"
      }
    },
    {
      "cell_type": "code",
      "source": [
        "# Your code starts here\n",
        "class ModeloLineal:\n",
        "  \"\"\"Clase que simula un modelo de regresion lineal\"\"\"\n",
        "\n",
        "  def __init__(self, m: float, b: float):\n",
        "    \"\"\"Constructor de la clase ModeloLineal\"\"\"\n",
        "    self.pendiente = m\n",
        "    self.intercepto = b\n",
        "\n",
        "  def predecir(self, x):\n",
        "    \"\"\"Funcion que predice el valor de una variable dependiente\"\"\"\n",
        "    if isinstance(x, list):\n",
        "        return [self.pendiente * valor + self.intercepto for valor in x]\n",
        "    return self.pendiente * x + self.intercepto\n",
        "\n",
        "# Ejemplo de uso\n",
        "modelo = ModeloLineal(2, 3)\n",
        "print(modelo.predecir([5, 2, 3, 4]))\n",
        "print(modelo.predecir(5))\n",
        "\n",
        "# Your code ends here"
      ],
      "metadata": {
        "id": "18nXnIMEQhKS",
        "colab": {
          "base_uri": "https://localhost:8080/"
        },
        "outputId": "d5ef1c26-b229-4a0e-8e38-290c419eb3d5"
      },
      "execution_count": 56,
      "outputs": [
        {
          "output_type": "stream",
          "name": "stdout",
          "text": [
            "[13, 7, 9, 11]\n",
            "13\n"
          ]
        }
      ]
    },
    {
      "cell_type": "markdown",
      "source": [
        "---\n",
        "\n",
        "### Gracias por completar este examen!\n",
        "\n",
        "---\n"
      ],
      "metadata": {
        "id": "LtljlM9cQkiT"
      }
    }
  ]
}