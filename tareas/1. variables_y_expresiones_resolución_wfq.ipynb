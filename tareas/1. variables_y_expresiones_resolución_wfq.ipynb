{
  "nbformat": 4,
  "nbformat_minor": 0,
  "metadata": {
    "colab": {
      "provenance": [],
      "name": "variables_y_expresiones_resolución_wfq.ipynb",
      "include_colab_link": true
    },
    "kernelspec": {
      "name": "python3",
      "display_name": "Python 3"
    },
    "language_info": {
      "name": "python"
    }
  },
  "cells": [
    {
      "cell_type": "markdown",
      "metadata": {
        "id": "view-in-github",
        "colab_type": "text"
      },
      "source": [
        "<a href=\"https://colab.research.google.com/github/Codenid/UTEC_2025_PROGRAMACION_101/blob/main/tareas/1.%20variables_y_expresiones_resoluci%C3%B3n_wfq.ipynb\" target=\"_parent\"><img src=\"https://colab.research.google.com/assets/colab-badge.svg\" alt=\"Open In Colab\"/></a>"
      ]
    },
    {
      "cell_type": "markdown",
      "source": [
        "<img src=\"https://posgrado.utec.edu.pe/sites/default/files/2023-08/Testimonial-home-2.jpg\" alt=\"HTML5 Icon\" width=\"900\" height=\"250\" >\n"
      ],
      "metadata": {
        "id": "cqadFmlrgAXp"
      }
    },
    {
      "cell_type": "markdown",
      "source": [
        "# **Ejercicios - Variables y Expresiones**"
      ],
      "metadata": {
        "id": "tW1-ULBmb0Cm"
      }
    },
    {
      "cell_type": "markdown",
      "source": [
        "**Ejercicio 1: Calculadora de ahorro semanal**\n",
        "\n",
        "Pide al usuario cuánto dinero ahorra cada día de lunes a domingo. Al final, muestra cuánto ahorró en total esa semana y cuánto tendría en un mes si repite el mismo patrón cada semana.\n",
        "\n",
        "- Pista: Usar 7 variables (ahorro_lunes, ahorro_martes, …), input(), float(), +, *."
      ],
      "metadata": {
        "id": "9igzfvIKqNGr"
      }
    },
    {
      "cell_type": "code",
      "source": [
        "## INICIO DE CÓDIGO\n",
        "\n",
        "# Funciones de formato\n",
        "def set_color_text(text, color):\n",
        "    # Devuelve texto con formato de color ANSI\n",
        "    colors = {\n",
        "        \"rojo\": \"\\033[31m\",\n",
        "        \"azul\": \"\\033[34m\",\n",
        "        \"amarillo\": \"\\033[33m\",\n",
        "        \"verde\": \"\\033[32m\",\n",
        "        \"magenta\": \"\\033[35m\",\n",
        "        \"cyan\": \"\\033[36m\",\n",
        "        \"reset\": \"\\033[0m\"\n",
        "    }\n",
        "    return f\"{colors.get(color, '')}{text}{colors['reset']}\"\n",
        "\n",
        "\n",
        "def set_italic_text(text):\n",
        "    # Devuelve texto en cursiva\n",
        "    return f\"\\033[3m{text}\\033[0m\"\n",
        "\n",
        "\n",
        "def main_savings():\n",
        "    # Constantes\n",
        "    CURRENCY = \"S/\"\n",
        "\n",
        "    # Encabezado\n",
        "    print(set_color_text(\"CALCULADORA DE AHORRO SEMANAL\", \"verde\"))\n",
        "    print(set_color_text(\"=\" * 30, \"verde\"))\n",
        "    print(set_italic_text(\n",
        "        set_color_text(\"*Ingrese el monto ahorrado para los siguientes días:\\n\", \"magenta\")\n",
        "    ))\n",
        "\n",
        "    # Captura de datos\n",
        "    savings_lunes = float(input(f\"\\tLunes: {CURRENCY} \"))\n",
        "    savings_martes = float(input(f\"\\tMartes: {CURRENCY} \"))\n",
        "    savings_miercoles = float(input(f\"\\tMiércoles: {CURRENCY} \"))\n",
        "    savings_jueves = float(input(f\"\\tJueves: {CURRENCY} \"))\n",
        "    savings_viernes = float(input(f\"\\tViernes: {CURRENCY} \"))\n",
        "    savings_sabado = float(input(f\"\\tSábado: {CURRENCY} \"))\n",
        "    savings_domingo = float(input(f\"\\tDomingo: {CURRENCY} \"))\n",
        "\n",
        "    # Cálculos\n",
        "    weekly_savings = savings_lunes + savings_martes + savings_miercoles + savings_jueves + savings_viernes + savings_sabado + savings_domingo\n",
        "    monthly_savings = weekly_savings * 4\n",
        "\n",
        "    # Resultados\n",
        "    weekly_message = (\n",
        "        f\"\\nSegún los datos, en la semana se logró ahorrar {CURRENCY} {weekly_savings}.\"\n",
        "    )\n",
        "    monthly_message = f\"Y si eres constante, se espera ahorrar {CURRENCY} {monthly_savings} en todo el mes.\"\n",
        "\n",
        "    print(set_italic_text(set_color_text(weekly_message, \"azul\")))\n",
        "    print(set_italic_text(set_color_text(monthly_message, \"rojo\")))\n",
        "\n",
        "\n",
        "if __name__ == \"__main__\":\n",
        "    main_savings()\n",
        "\n",
        "## FIN DE CÓDIGO"
      ],
      "metadata": {
        "id": "BX-O1-4wqWF9",
        "colab": {
          "base_uri": "https://localhost:8080/"
        },
        "outputId": "f2de0e53-80ad-4d1a-bf24-2387dca58d53"
      },
      "execution_count": 46,
      "outputs": [
        {
          "output_type": "stream",
          "name": "stdout",
          "text": [
            "\u001b[32mCALCULADORA DE AHORRO SEMANAL\u001b[0m\n",
            "\u001b[32m==============================\u001b[0m\n",
            "\u001b[3m\u001b[35m*Ingrese el monto ahorrado para los siguientes días:\n",
            "\u001b[0m\u001b[0m\n",
            "\tLunes: S/ 1\n",
            "\tMartes: S/ 1\n",
            "\tMiércoles: S/ 1\n",
            "\tJueves: S/ 1\n",
            "\tViernes: S/ 1\n",
            "\tSábado: S/ 1\n",
            "\tDomingo: S/ 1\n",
            "\u001b[3m\u001b[34m\n",
            "Según los datos, en la semana se logró ahorrar S/ 7.0.\u001b[0m\u001b[0m\n",
            "\u001b[3m\u001b[31mY si eres constante, se espera ahorrar S/ 28.0 en todo el mes.\u001b[0m\u001b[0m\n"
          ]
        }
      ]
    },
    {
      "cell_type": "markdown",
      "source": [
        "**Ejercicio 2: Conversor de segundos**\n",
        "\n",
        "Solicita una cantidad total de segundos y muestra cuántos minutos y segundos representa.\n",
        "\n",
        "Ejemplo: 130 segundos → 2 minutos y 10 segundos\n",
        "* Pista: Usar // y %\n"
      ],
      "metadata": {
        "id": "oLaw6UggqV3E"
      }
    },
    {
      "cell_type": "code",
      "source": [
        "## INICIO DE CÓDIGO\n",
        "\n",
        "def main_seconds():\n",
        "    # Constantes\n",
        "    SECONDS_PER_MINUTE = 60\n",
        "\n",
        "    # Encabezado\n",
        "    print(set_color_text(\"CONVERSOR DE SEGUNDOS\", \"verde\"))\n",
        "    print(set_color_text(\"=\" * 21, \"verde\"))\n",
        "    print(set_italic_text(\n",
        "        set_color_text(\"*Ingrese la cantidad de segundos transcurridos y obtendrá su equivalente en minutos + segundos:\\n\", \"magenta\")\n",
        "    ))\n",
        "\n",
        "    # Captura de datos\n",
        "    seconds_elapsed = int(input(\"\\tSegundos: \"))\n",
        "\n",
        "    # Cálculos\n",
        "    minutes_elapsed = seconds_elapsed // SECONDS_PER_MINUTE\n",
        "    seconds_remaining = seconds_elapsed % SECONDS_PER_MINUTE\n",
        "\n",
        "    # Resultados\n",
        "    result_message = f\"\\n'{seconds_elapsed}' segundos son equivalentes a '{minutes_elapsed}' minutos con '{seconds_remaining}' segundos.\"\n",
        "\n",
        "    print(set_italic_text(set_color_text(result_message, \"azul\")))\n",
        "\n",
        "\n",
        "if __name__ == \"__main__\":\n",
        "    main_seconds()\n",
        "\n",
        "## FIN DE CÓDIGO"
      ],
      "metadata": {
        "id": "bAuxBROrqaWb",
        "colab": {
          "base_uri": "https://localhost:8080/"
        },
        "outputId": "095f0e91-042c-4e2a-c87b-da2015317143"
      },
      "execution_count": 47,
      "outputs": [
        {
          "output_type": "stream",
          "name": "stdout",
          "text": [
            "\u001b[32mCONVERSOR DE SEGUNDOS\u001b[0m\n",
            "\u001b[32m=====================\u001b[0m\n",
            "\u001b[3m\u001b[35m*Ingrese la cantidad de segundos transcurridos y obtendrá su equivalente en minutos + segundos:\n",
            "\u001b[0m\u001b[0m\n",
            "\tSegundos: 122\n",
            "\u001b[3m\u001b[34m\n",
            "'122' segundos son equivalentes a '2' minutos con '2' segundos.\u001b[0m\u001b[0m\n"
          ]
        }
      ]
    },
    {
      "cell_type": "markdown",
      "source": [
        "**Ejercicio 3: Puntuación de juego**\n",
        "\n",
        "Un videojuego otorga:\n",
        "\n",
        "* 10 puntos por cada estrella recolectada,\n",
        "* 50 puntos por cada gema recolectada, y\n",
        "* 1 punto por cada segundo que el jugador se mantuvo vivo.\n",
        "\n",
        "Pide al usuario las tres cantidades y muestra su puntaje total.\n",
        "\n",
        "* Pista: total = estrellas*10 + gemas*50 + tiempo"
      ],
      "metadata": {
        "id": "dK4EIGoKrW2B"
      }
    },
    {
      "cell_type": "code",
      "source": [
        "## INICIO DE CÓDIGO\n",
        "\n",
        "def main_score():\n",
        "    # Constantes\n",
        "    POINTS_PER_STARS = 10\n",
        "    POINTS_PER_GEMS = 50\n",
        "    POINTS_PER_SECONDS_LIFE = 1\n",
        "\n",
        "    # Encabezado\n",
        "    print(set_color_text(\"PUNTUACIÓN DEL JUEGO\", \"verde\"))\n",
        "    print(set_color_text(\"=\" * 20, \"verde\"))\n",
        "    print(set_italic_text(\n",
        "        set_color_text(\"*Ingrese los siguientes datos para calcular su puntaje total en el juego:\\n\", \"magenta\")\n",
        "    ))\n",
        "\n",
        "    # Captura de datos\n",
        "    player_stars = int(input(\"\\tEstrellas: \"))\n",
        "    player_gems = int(input(\"\\tGemas: \"))\n",
        "    player_seconcs_life = int(input(\"\\tTiempo que el jugador se mantuvo vivo (segundos): \"))\n",
        "\n",
        "    # Cálculos\n",
        "    player_score = player_stars * POINTS_PER_STARS + player_gems * POINTS_PER_GEMS + player_seconcs_life * POINTS_PER_SECONDS_LIFE\n",
        "\n",
        "    # Resultados\n",
        "    result_message = f\"\\nEl puntaje total que obtuvo el jugador es de '{player_score}'\"\n",
        "\n",
        "    print(set_italic_text(set_color_text(result_message, \"azul\")))\n",
        "\n",
        "\n",
        "if __name__ == \"__main__\":\n",
        "    main_score()\n",
        "\n",
        "## FIN DE CÓDIGO"
      ],
      "metadata": {
        "id": "jkBQHQF1rlUY",
        "colab": {
          "base_uri": "https://localhost:8080/"
        },
        "outputId": "6069527b-9d66-4114-89d5-a9d00c7bd5f3"
      },
      "execution_count": 48,
      "outputs": [
        {
          "output_type": "stream",
          "name": "stdout",
          "text": [
            "\u001b[32mPUNTUACIÓN DEL JUEGO\u001b[0m\n",
            "\u001b[32m====================\u001b[0m\n",
            "\u001b[3m\u001b[35m*Ingrese los siguientes datos para calcular su puntaje total en el juego:\n",
            "\u001b[0m\u001b[0m\n",
            "\tEstrellas: 12\n",
            "\tGemas: 23\n",
            "\tTiempo que el jugador se mantuvo vivo (segundos): 34\n",
            "\u001b[3m\u001b[34m\n",
            "El puntaje total que obtuvo el jugador es de '1304'\u001b[0m\u001b[0m\n"
          ]
        }
      ]
    },
    {
      "cell_type": "markdown",
      "source": [
        "**Ejercicio 4: Conversor de monedas con tasa personalizada**\n",
        "\n",
        "Solicita al usuario:\n",
        "\n",
        "* El monto en soles\n",
        "* La tasa de cambio a dólares\n",
        "\n",
        "Muestra el equivalente en dólares, redondeado a 2 decimales.\n",
        "\n",
        "* Pista: Usar float(), *, round(valor, 2)"
      ],
      "metadata": {
        "id": "wW9Edl_8rlt1"
      }
    },
    {
      "cell_type": "code",
      "source": [
        "## INICIO DE CÓDIGO\n",
        "\n",
        "def main_currency_exchange():\n",
        "    # Constantes\n",
        "    CURRENCY = \"S/\"\n",
        "    CURRENCY_DOLLAR = \"$\"\n",
        "\n",
        "    # Encabezado\n",
        "    print(set_color_text(\"CONVERSOR DE MONEDAS\", \"verde\"))\n",
        "    print(set_color_text(\"=\" * 20, \"verde\"))\n",
        "    print(set_italic_text(\n",
        "        set_color_text(\"*Ingrese los siguientes datos para calcular el tipo de cambio con tasa personalizada:\\n\", \"magenta\")\n",
        "    ))\n",
        "\n",
        "    # Captura de datos\n",
        "    exchange_amount = float(input(f\"\\tMonto en soles: {CURRENCY} \"))\n",
        "    exchange_rate = float(input(\"\\tTasa de cambio a dólares: \"))\n",
        "\n",
        "    # Cálculos\n",
        "    exchange_result = round(exchange_amount / exchange_rate, 2)\n",
        "\n",
        "    # Resultados\n",
        "    result_message = f\"\\nPara '{CURRENCY} {exchange_amount}' a una tasa de cambio de '{exchange_rate}' equivale '{CURRENCY_DOLLAR} {exchange_result}'\"\n",
        "\n",
        "    print(set_italic_text(set_color_text(result_message, \"azul\")))\n",
        "\n",
        "\n",
        "if __name__ == \"__main__\":\n",
        "    main_currency_exchange()\n",
        "\n",
        "## FIN DE CÓDIGO"
      ],
      "metadata": {
        "id": "fTCsCohHrmQW",
        "colab": {
          "base_uri": "https://localhost:8080/"
        },
        "outputId": "1c400eda-afc8-4656-bad7-6039954a33f1"
      },
      "execution_count": 49,
      "outputs": [
        {
          "output_type": "stream",
          "name": "stdout",
          "text": [
            "\u001b[32mCONVERSOR DE MONEDAS\u001b[0m\n",
            "\u001b[32m====================\u001b[0m\n",
            "\u001b[3m\u001b[35m*Ingrese los siguientes datos para calcular el tipo de cambio con tasa personalizada:\n",
            "\u001b[0m\u001b[0m\n",
            "\tMonto en soles: S/ 1200\n",
            "\tTasa de cambio a dólares: 3.9\n",
            "\u001b[3m\u001b[34m\n",
            "Para 'S/ 1200.0' a una tasa de cambio de '3.9' equivale '$ 307.69'\u001b[0m\u001b[0m\n"
          ]
        }
      ]
    },
    {
      "cell_type": "markdown",
      "source": [
        "**Ejercicio 5: Costo compartido de viaje**\n",
        "\n",
        "Tres amigos hacen un viaje y pagan distintos montos:\n",
        "\n",
        "* Ana pagó gasolina,\n",
        "* Luis pagó peajes,\n",
        "* Carla pagó comida.\n",
        "\n",
        "Pide los tres montos, calcula el total y cuánto debería aportar cada uno para que paguen igual.\n",
        "\n",
        "* Pista: Calcular el total y luego dividirlo entre 3"
      ],
      "metadata": {
        "id": "JYUyJAidrmnT"
      }
    },
    {
      "cell_type": "code",
      "source": [
        "## INICIO DE CÓDIGO\n",
        "\n",
        "def main_travel_cost():\n",
        "    # Constantes\n",
        "    CURRENCY = \"S/\"\n",
        "\n",
        "    # Encabezado\n",
        "    print(set_color_text(\"COSTO COMPARTIDO DE VIAJE\", \"verde\"))\n",
        "    print(set_color_text(\"=\" * 25, \"verde\"))\n",
        "    print(set_italic_text(\n",
        "        set_color_text(\"*Ingrese los siguientes montos para calcular cuanto debe aportar cada uno y así aportar igual:\\n\", \"magenta\")\n",
        "    ))\n",
        "\n",
        "    # Captura de datos\n",
        "    travel_fuel = float(input(f\"\\tGasto en gasolina realizado por Ana: {CURRENCY} \"))\n",
        "    travel_tax = float(input(f\"\\tGasto en peajes realizado por Luis: {CURRENCY} \"))\n",
        "    travel_meals = float(input(f\"\\tGasto en comidas realizado por Carla: {CURRENCY} \"))\n",
        "\n",
        "    # Cálculos\n",
        "    travel_total = travel_fuel + travel_tax + travel_meals\n",
        "    travel_share = round(travel_total / 3, 2)\n",
        "\n",
        "    # Resultados\n",
        "    result_message = f\"\\nEl total de gastos fue de '{CURRENCY} {travel_total}' por lo que cada uno tendría que aportar '{CURRENCY} {travel_share}'\"\n",
        "\n",
        "    print(set_italic_text(set_color_text(result_message, \"azul\")))\n",
        "\n",
        "\n",
        "if __name__ == \"__main__\":\n",
        "    main_travel_cost()\n",
        "\n",
        "## FIN DE CÓDIGO"
      ],
      "metadata": {
        "id": "SGjH-m_mrom9",
        "colab": {
          "base_uri": "https://localhost:8080/"
        },
        "outputId": "ddf83939-b6e8-4690-b993-73ffded0cde8"
      },
      "execution_count": 50,
      "outputs": [
        {
          "output_type": "stream",
          "name": "stdout",
          "text": [
            "\u001b[32mCOSTO COMPARTIDO DE VIAJE\u001b[0m\n",
            "\u001b[32m=========================\u001b[0m\n",
            "\u001b[3m\u001b[35m*Ingrese los siguientes montos para calcular cuanto debe aportar cada uno y así aportar igual:\n",
            "\u001b[0m\u001b[0m\n",
            "\tGasto en gasolina realizado por Ana: S/ 123\n",
            "\tGasto en peajes realizado por Luis: S/ 234\n",
            "\tGasto en comidas realizado por Carla: S/ 345\n",
            "\u001b[3m\u001b[34m\n",
            "El total de gastos fue de 'S/ 702.0' por lo que cada uno tendría que aportar 'S/ 234.0'\u001b[0m\u001b[0m\n"
          ]
        }
      ]
    },
    {
      "cell_type": "markdown",
      "source": [
        "**Ejercicio 6: Tiempo total de estudio**\n",
        "\n",
        "Solicita al usuario cuántas horas estudió en 4 materias distintas.\n",
        "\n",
        "Muestra el total de horas de estudio en la semana y el promedio diario (considerando 7 días).\n"
      ],
      "metadata": {
        "id": "skhBiCaCro5l"
      }
    },
    {
      "cell_type": "code",
      "source": [
        "## INICIO DE CÓDIGO\n",
        "\n",
        "def main_time_study():\n",
        "    # Constantes\n",
        "    DAYS_WEEK = 7\n",
        "\n",
        "    # Encabezado\n",
        "    print(set_color_text(\"TIEMPO TOTAL DE ESTUDIO\", \"verde\"))\n",
        "    print(set_color_text(\"=\" * 25, \"verde\"))\n",
        "    print(set_italic_text(\n",
        "        set_color_text(\"*Ingrese las horas de estudio semanal en las siguientes 4 materias:\\n\", \"magenta\")\n",
        "    ))\n",
        "\n",
        "    # Captura de datos\n",
        "    time_study_course_a = int(input(\"\\tCurso A: \"))\n",
        "    time_study_course_b = int(input(\"\\tCurso B: \"))\n",
        "    time_study_course_c = int(input(\"\\tCurso C: \"))\n",
        "    time_study_course_d = int(input(\"\\tCurso D: \"))\n",
        "\n",
        "    # Cálculos\n",
        "    time_study_weekly = time_study_course_a + time_study_course_b + time_study_course_c + time_study_course_d\n",
        "    time_study_daily = round(time_study_weekly / DAYS_WEEK, 2)\n",
        "\n",
        "    # Resultados\n",
        "    result_message = f\"\\nSe tiene un total de '{time_study_weekly}' horas de estudio semanal y un promedio de '{time_study_daily}' horas de estudio diario.\"\n",
        "\n",
        "    print(set_italic_text(set_color_text(result_message, \"azul\")))\n",
        "\n",
        "\n",
        "if __name__ == \"__main__\":\n",
        "    main_time_study()\n",
        "\n",
        "## FIN DE CÓDIGO"
      ],
      "metadata": {
        "id": "HnFuV1RPrqXQ",
        "colab": {
          "base_uri": "https://localhost:8080/"
        },
        "outputId": "7787ae16-a7f6-4fd1-a919-a0fb93137122"
      },
      "execution_count": 51,
      "outputs": [
        {
          "output_type": "stream",
          "name": "stdout",
          "text": [
            "\u001b[32mTIEMPO TOTAL DE ESTUDIO\u001b[0m\n",
            "\u001b[32m=========================\u001b[0m\n",
            "\u001b[3m\u001b[35m*Ingrese las horas de estudio semanal en las siguientes 4 materias:\n",
            "\u001b[0m\u001b[0m\n",
            "\tCurso A: 12\n",
            "\tCurso B: 23\n",
            "\tCurso C: 34\n",
            "\tCurso D: 45\n",
            "\u001b[3m\u001b[34m\n",
            "Se tiene un total de '114' horas de estudio semanal y un promedio de '16.29' horas de estudio diario.\u001b[0m\u001b[0m\n"
          ]
        }
      ]
    },
    {
      "cell_type": "markdown",
      "source": [
        "**Ejercicio 7: Nombre codificado (nivel string)**\n",
        "\n",
        "Pide al usuario su nombre completo y muestra:\n",
        "\n",
        "* La cantidad de caracteres (con len())\n",
        "* Su nombre todo en mayúsculas (.upper())\n",
        "* Su nombre todo en minúsculas (.lower())\n"
      ],
      "metadata": {
        "id": "rNjtOXKWrqs5"
      }
    },
    {
      "cell_type": "code",
      "source": [
        "## INICIO DE CÓDIGO\n",
        "\n",
        "def main_name_secret():\n",
        "\n",
        "    # Encabezado\n",
        "    print(set_color_text(\"NOMBRE CODIFICADO\", \"verde\"))\n",
        "    print(set_color_text(\"=\" * 20, \"verde\"))\n",
        "    print(set_italic_text(\n",
        "        set_color_text(\"*Ingrese su nombre para calcular la cantidad de caracteres y otras funciones de texto:\\n\", \"magenta\")\n",
        "    ))\n",
        "\n",
        "    # Captura de datos\n",
        "    full_name = input(\"\\tNombre Completo: \")\n",
        "\n",
        "    # Cálculos\n",
        "    count_character_name = len(full_name)\n",
        "    upper_case_name = full_name.upper()\n",
        "    lower_case_name = full_name.lower()\n",
        "\n",
        "    # Resultados\n",
        "    result_message = f\"\\nEl nombre ingresado '{full_name}' tiene '{count_character_name}' caracteres.\"\n",
        "    result_message += f\"\\nEl nombre en mayúsculas '{upper_case_name}' y minúsculas '{lower_case_name}'.\"\n",
        "\n",
        "    print(set_italic_text(set_color_text(result_message, \"azul\")))\n",
        "\n",
        "\n",
        "if __name__ == \"__main__\":\n",
        "    main_name_secret()\n",
        "\n",
        "## FIN DE CÓDIGO"
      ],
      "metadata": {
        "id": "GnGm74GXrsL0",
        "colab": {
          "base_uri": "https://localhost:8080/"
        },
        "outputId": "e8b620a1-746a-404e-e597-67a867cdcd5b"
      },
      "execution_count": 52,
      "outputs": [
        {
          "output_type": "stream",
          "name": "stdout",
          "text": [
            "\u001b[32mNOMBRE CODIFICADO\u001b[0m\n",
            "\u001b[32m====================\u001b[0m\n",
            "\u001b[3m\u001b[35m*Ingrese su nombre para calcular la cantidad de caracteres y otras funciones de texto:\n",
            "\u001b[0m\u001b[0m\n",
            "\tNombre Completo: lukoton\n",
            "\u001b[3m\u001b[34m\n",
            "El nombre ingresado 'lukoton' tiene '7' caracteres.\n",
            "El nombre en mayúsculas 'LUKOTON' y minúsculas 'lukoton'.\u001b[0m\u001b[0m\n"
          ]
        }
      ]
    },
    {
      "cell_type": "markdown",
      "source": [
        "**Ejercicio 8: Frase repetida**\n",
        "\n",
        "Pide una frase y un número n, y muestra la frase repetida n veces, cada una en una línea.\n",
        "\n",
        "* Pista: print(frase * n)  # y/o con '\\n'"
      ],
      "metadata": {
        "id": "lrhPyjmWrse2"
      }
    },
    {
      "cell_type": "code",
      "source": [
        "## INICIO DE CÓDIGO\n",
        "\n",
        "def main_phrase_repeat():\n",
        "\n",
        "    # Encabezado\n",
        "    print(set_color_text(\"FRASE REPETIDA\", \"verde\"))\n",
        "    print(set_color_text(\"=\" * 20, \"verde\"))\n",
        "    print(set_italic_text(\n",
        "        set_color_text(\"*Ingrese los siguientes datos para trabajar algunas funciones de texto:\\n\", \"magenta\")\n",
        "    ))\n",
        "\n",
        "    # Captura de datos\n",
        "    phrase_favorite = input(\"\\tFrase favorita: \")\n",
        "    count_repeat = int(input(\"\\tNúmero de repeticiones: \"))\n",
        "\n",
        "    # Cálculos\n",
        "\n",
        "\n",
        "    # Resultados\n",
        "    result_message = f\"\\nA continuación La frase '{phrase_favorite}' se va a repetir '{count_repeat}' veces:\\n\"\n",
        "\n",
        "    print(set_italic_text(set_color_text(result_message, \"azul\")))\n",
        "    print(set_italic_text(set_color_text(f\"\\t{phrase_favorite}\\n\" * count_repeat, \"verde\")))\n",
        "\n",
        "\n",
        "if __name__ == \"__main__\":\n",
        "    main_phrase_repeat()\n",
        "\n",
        "## FIN DE CÓDIGO"
      ],
      "metadata": {
        "id": "Vzef3t_Lru0p",
        "colab": {
          "base_uri": "https://localhost:8080/"
        },
        "outputId": "881eeff0-ca09-4d37-fcd1-f3bfcc251dd1"
      },
      "execution_count": 53,
      "outputs": [
        {
          "output_type": "stream",
          "name": "stdout",
          "text": [
            "\u001b[32mFRASE REPETIDA\u001b[0m\n",
            "\u001b[32m====================\u001b[0m\n",
            "\u001b[3m\u001b[35m*Ingrese los siguientes datos para trabajar algunas funciones de texto:\n",
            "\u001b[0m\u001b[0m\n",
            "\tFrase favorita: lukinis\n",
            "\tNúmero de repeticiones: 2\n",
            "\u001b[3m\u001b[34m\n",
            "A continuación La frase 'lukinis' se va a repetir '2' veces:\n",
            "\u001b[0m\u001b[0m\n",
            "\u001b[3m\u001b[32m\tlukinis\n",
            "\tlukinis\n",
            "\u001b[0m\u001b[0m\n"
          ]
        }
      ]
    },
    {
      "cell_type": "markdown",
      "source": [
        "**Ejercicio 9: División de cuentas**\n",
        "\n",
        "Un grupo de amigos pide una cuenta por S/ 250.\n",
        "Pide al usuario cuántas personas están en el grupo y muestra cuánto debe pagar cada uno.\n",
        "\n",
        "Asegúrate de redondear el resultado a 2 decimales.\n",
        "\n",
        "* Pista: Usa la funcion round()"
      ],
      "metadata": {
        "id": "5NpbbGR_rvNH"
      }
    },
    {
      "cell_type": "code",
      "source": [
        "## INICIO DE CÓDIGO\n",
        "\n",
        "def main_account_division():\n",
        "\n",
        "    # Constantes\n",
        "    CURRENCY = \"S/\"\n",
        "    TOTAL_AMOUNT = 250\n",
        "\n",
        "    # Encabezado\n",
        "    print(set_color_text(\"DIVISIÓN DE CUENTAS\", \"verde\"))\n",
        "    print(set_color_text(\"=\" * 20, \"verde\"))\n",
        "    print(set_italic_text(\n",
        "        set_color_text(\"*Ingrese los siguientes datos para calcular cuanto debe aportar cada integrante del equipo:\\n\", \"magenta\")\n",
        "    ))\n",
        "\n",
        "    # Captura de datos\n",
        "    count_person = int(input(\"\\tNúmero de integrantes: \"))\n",
        "\n",
        "    # Cálculos\n",
        "    amount_per_person = round(TOTAL_AMOUNT / count_person, 2)\n",
        "\n",
        "    # Resultados\n",
        "    result_message = f\"\\nCada integrate debe aportar '{CURRENCY} {amount_per_person}' para cubrir el monto total de '{CURRENCY} {TOTAL_AMOUNT}'.\"\n",
        "\n",
        "    print(set_italic_text(set_color_text(result_message, \"azul\")))\n",
        "\n",
        "\n",
        "if __name__ == \"__main__\":\n",
        "    main_account_division()\n",
        "\n",
        "## FIN DE CÓDIGO"
      ],
      "metadata": {
        "id": "uMxuVCUVrvj6",
        "colab": {
          "base_uri": "https://localhost:8080/"
        },
        "outputId": "f061d7d4-bf41-47a1-d3d7-21db6a685895"
      },
      "execution_count": 54,
      "outputs": [
        {
          "output_type": "stream",
          "name": "stdout",
          "text": [
            "\u001b[32mDIVISIÓN DE CUENTAS\u001b[0m\n",
            "\u001b[32m====================\u001b[0m\n",
            "\u001b[3m\u001b[35m*Ingrese los siguientes datos para calcular cuanto debe aportar cada integrante del equipo:\n",
            "\u001b[0m\u001b[0m\n",
            "\tNúmero de integrantes: 23\n",
            "\u001b[3m\u001b[34m\n",
            "Cada integrate debe aportar 'S/ 10.87' para cubrir el monto total de 'S/ 250'.\u001b[0m\u001b[0m\n"
          ]
        }
      ]
    },
    {
      "cell_type": "markdown",
      "source": [
        "**Ejercicio 10: Calendario de clases**\n",
        "\n",
        "Pide cuántas horas se estudia en promedio por día, y cuántos días tiene el mes.\n",
        "\n",
        "Calcula cuántas horas de estudio habrá ese mes."
      ],
      "metadata": {
        "id": "p3PYp0l4pxuI"
      }
    },
    {
      "cell_type": "code",
      "source": [
        "## INICIO DE CÓDIGO\n",
        "\n",
        "def main_class_calendar():\n",
        "\n",
        "    # Encabezado\n",
        "    print(set_color_text(\"CALENDARIO DE CLASES\", \"verde\"))\n",
        "    print(set_color_text(\"=\" * 20, \"verde\"))\n",
        "    print(set_italic_text(\n",
        "        set_color_text(\"*Ingrese los siguientes datos para calcular cuantas horas de estudio habrá en el mes:\\n\", \"magenta\")\n",
        "    ))\n",
        "\n",
        "    # Captura de datos\n",
        "    number_hours_study_daily = float(input(\"\\tNúmero de horas de estudio diario promedio: \"))\n",
        "    number_days_in_month = int(input(\"\\tNúmero de días que tiene el mes: \"))\n",
        "\n",
        "    # Cálculos\n",
        "    number_hours_study_month = round(number_hours_study_daily * number_days_in_month, 2)\n",
        "\n",
        "    # Resultados\n",
        "    result_message = f\"\\nEste mes se espera tener '{number_hours_study_month}' horas de estudio mensual.\"\n",
        "\n",
        "    print(set_italic_text(set_color_text(result_message, \"azul\")))\n",
        "\n",
        "\n",
        "if __name__ == \"__main__\":\n",
        "    main_class_calendar()\n",
        "\n",
        "## FIN DE CÓDIGO"
      ],
      "metadata": {
        "id": "y1bXFffhrxk2",
        "colab": {
          "base_uri": "https://localhost:8080/"
        },
        "outputId": "e2058458-4ed5-4c35-b8c2-1905f293597c"
      },
      "execution_count": 55,
      "outputs": [
        {
          "output_type": "stream",
          "name": "stdout",
          "text": [
            "\u001b[32mCALENDARIO DE CLASES\u001b[0m\n",
            "\u001b[32m====================\u001b[0m\n",
            "\u001b[3m\u001b[35m*Ingrese los siguientes datos para calcular cuantas horas de estudio habrá en el mes:\n",
            "\u001b[0m\u001b[0m\n",
            "\tNúmero de horas de estudio diario promedio: 12\n",
            "\tNúmero de días que tiene el mes: 31\n",
            "\u001b[3m\u001b[34m\n",
            "Este mes se espera tener '372.0' horas de estudio mensual.\u001b[0m\u001b[0m\n"
          ]
        }
      ]
    },
    {
      "cell_type": "markdown",
      "source": [
        "---\n",
        "\n",
        "# Gracias por completar este laboratorio!\n",
        "\n",
        "---\n"
      ],
      "metadata": {
        "id": "8_ZocYoOrx3Z"
      }
    }
  ]
}