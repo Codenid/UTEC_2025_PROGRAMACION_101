{
  "nbformat": 4,
  "nbformat_minor": 0,
  "metadata": {
    "colab": {
      "provenance": [],
      "authorship_tag": "ABX9TyOSjlhikfPGzYqYuW3TVs9t",
      "include_colab_link": true
    },
    "kernelspec": {
      "name": "python3",
      "display_name": "Python 3"
    },
    "language_info": {
      "name": "python"
    }
  },
  "cells": [
    {
      "cell_type": "markdown",
      "metadata": {
        "id": "view-in-github",
        "colab_type": "text"
      },
      "source": [
        "<a href=\"https://colab.research.google.com/github/Codenid/UTEC_2025_PROGRAMACION_101/blob/main/MODULO_2/Examen_2_Winston_Flores.ipynb\" target=\"_parent\"><img src=\"https://colab.research.google.com/assets/colab-badge.svg\" alt=\"Open In Colab\"/></a>"
      ]
    },
    {
      "cell_type": "markdown",
      "source": [
        "Examen: Construyendo el Sistema de Recomendación de PythonFlix\n",
        "Contexto: Eres parte del equipo de ingeniería de PythonFlix, una plataforma de streaming que necesita construir y mejorar su sistema de recomendación. Vas a trabajar con estructuras de datos como listas, tuplas, diccionarios y sets para procesar ratings, historiales y perfiles de usuario.\n"
      ],
      "metadata": {
        "id": "u5CLVEpwuWYd"
      }
    },
    {
      "cell_type": "markdown",
      "source": [
        "**1. Catálogo de contenido (Listas y tuplas)**\n",
        "\n",
        "Tienes una tupla inmutable con las series más vistas:\n",
        "\n",
        "catalogo_popular = (\"Breaking Python\", \"Data Science 101\", \"Machine Love\", \"Debug Wars\")\n",
        "\n",
        "Convierte esta tupla en una lista y realiza lo siguiente:\n",
        "\n",
        "●\tAgrega una nueva serie: \"Neural Networks\"\n",
        "\n",
        "●\tReemplaza \"Debug Wars\" por \"AI Rebellion\"\n",
        "\n",
        "●\tOrdena la lista alfabéticamente\n"
      ],
      "metadata": {
        "id": "WReVp5fgubIv"
      }
    },
    {
      "cell_type": "code",
      "execution_count": 5,
      "metadata": {
        "colab": {
          "base_uri": "https://localhost:8080/"
        },
        "id": "nRagVeZHuPNt",
        "outputId": "e2a4f85c-d64d-46ba-b42d-4fc7c8841459"
      },
      "outputs": [
        {
          "output_type": "stream",
          "name": "stdout",
          "text": [
            "Series mas vistas:  ('Breaking Python', 'Data Science 101', 'Machine Love', 'Debug Wars')\n",
            "Series mas vistas ordenadas:  ['AI Rebellion', 'Breaking Python', 'Data Science 101', 'Machine Love', 'Neural Networks']\n"
          ]
        }
      ],
      "source": [
        "# Series mas vistas en tupla\n",
        "catalogo_popular = (\"Breaking Python\", \"Data Science 101\", \"Machine Love\", \"Debug Wars\")\n",
        "print(\"Series mas vistas: \", catalogo_popular)\n",
        "\n",
        "# Convertir tupla en lista\n",
        "catalogo_popular_lista = list(catalogo_popular)\n",
        "\n",
        "# Agregar nueva serie\n",
        "catalogo_popular_lista.append(\"Neural Networks\")\n",
        "\n",
        "# Reemplazar \"Debug Wars\" por \"AI Rebellion\"\n",
        "catalogo_popular_lista[3] = \"AI Rebellion\"\n",
        "\n",
        "# Ordenar la lista alfabéticamente\n",
        "catalogo_popular_lista.sort()\n",
        "\n",
        "# Mostrar el resultado\n",
        "print(\"Series mas vistas ordenadas: \", catalogo_popular_lista)"
      ]
    },
    {
      "cell_type": "markdown",
      "source": [
        "**2. Filtrado de géneros (Slicing)**\n",
        "\n",
        "Tienes una lista con los géneros disponibles:\n",
        "\n",
        "generos = [\"Drama\", \"Comedia\", \"Acción\", \"Sci-Fi\", \"Documental\", \"Terror\", \"Romance\"]\n",
        "\n",
        "Realiza:\n",
        "\n",
        "●\tUn slicing que obtenga los géneros del medio\n",
        "\n",
        "●\tUn slicing que obtenga los tres primeros géneros\n",
        "\n",
        "●\tLos géneros ordenados en orden inverso (usando slicing)\n"
      ],
      "metadata": {
        "id": "cLfCuG8Wvcdz"
      }
    },
    {
      "cell_type": "code",
      "source": [
        "# Lista de generos disponibles\n",
        "generos = [\"Drama\", \"Comedia\", \"Acción\", \"Sci-Fi\", \"Documental\", \"Terror\", \"Romance\"]\n",
        "print(\"Generos disponibles: \", generos)\n",
        "\n",
        "# Un slicing que obtenga los géneros del medio\n",
        "generos_medio = generos[1:len(generos)-1]\n",
        "print(\"Generos del medio: \", generos_medio)\n",
        "\n",
        "# Un slicing que obtenga los tres primeros géneros\n",
        "generos_primeros = generos[:3]\n",
        "print(\"Primeros 3 generos: \", generos_primeros)\n",
        "\n",
        "# Los géneros ordenados en orden inverso (usando slicing)\n",
        "generos_inverso = generos[::-1]\n",
        "print(\"Generos en orden inverso: \", generos_inverso)"
      ],
      "metadata": {
        "colab": {
          "base_uri": "https://localhost:8080/"
        },
        "id": "iyQMCYq2vq4o",
        "outputId": "f18c83f4-dd8f-418e-95c2-b9266a1ec6bb"
      },
      "execution_count": 9,
      "outputs": [
        {
          "output_type": "stream",
          "name": "stdout",
          "text": [
            "Generos disponibles:  ['Drama', 'Comedia', 'Acción', 'Sci-Fi', 'Documental', 'Terror', 'Romance']\n",
            "Generos del medio:  ['Comedia', 'Acción', 'Sci-Fi', 'Documental', 'Terror']\n",
            "Primeros 3 generos:  ['Drama', 'Comedia', 'Acción']\n",
            "Generos en orden inverso:  ['Romance', 'Terror', 'Documental', 'Sci-Fi', 'Acción', 'Comedia', 'Drama']\n"
          ]
        }
      ]
    },
    {
      "cell_type": "markdown",
      "source": [
        "**3. Puntajes de usuarios (Listas por comprensión)**\n",
        "\n",
        "Tienes una lista de ratings otorgados por un usuario a distintas series:\n",
        "\n",
        "ratings = [4.5, 3.0, 5.0, 2.5, 4.0, 1.5]\n",
        "\n",
        "Con listas por comprensión, crea:\n",
        "\n",
        "●\tUna lista con solo los ratings mayores a 3.5\n",
        "\n",
        "●\tUna lista con los ratings convertidos a una escala del 1 al 100\n",
        "\n",
        "●\tUna lista de strings que diga \"Alta\" si rating > 4, \"Media\" si entre 3 y 4, \"Baja\" si menor\n",
        "\n"
      ],
      "metadata": {
        "id": "ow59JB2QwyNI"
      }
    },
    {
      "cell_type": "code",
      "source": [
        "# Rating del usuario a distintas series\n",
        "ratings = [4.5, 3.0, 5.0, 2.5, 4.0, 1.5]\n",
        "print(\"Ratings del usuario: \", ratings)\n",
        "\n",
        "# Una lista con solo los ratings mayores a 3.5\n",
        "rating_mayor_35 = [rating for rating in ratings if rating > 3.5]\n",
        "print(\"Ratings mayores a 3.5: \", rating_mayor_35)\n",
        "\n",
        "# Una lista con los ratings convertidos a una escala del 1 al 100\n",
        "rating_convertido = [int(rating*20) for rating in ratings]\n",
        "print(\"Ratings convertidos a escala del 1 al 100: \", rating_convertido)\n",
        "\n",
        "# Una lista de strings que diga \"Alta\" si rating > 4, \"Media\" si entre 3 y 4, \"Baja\" si menor\n",
        "rating_string = [\"Alta\" if rating > 4 else \"Media\" if rating >= 3 else \"Baja\" for rating in ratings]\n",
        "print(\"Ratings en string: \", rating_string)"
      ],
      "metadata": {
        "colab": {
          "base_uri": "https://localhost:8080/"
        },
        "id": "5VyyTpD-w7xH",
        "outputId": "9ac8f2e7-d00c-4356-a839-e1065ecfafcc"
      },
      "execution_count": 13,
      "outputs": [
        {
          "output_type": "stream",
          "name": "stdout",
          "text": [
            "Ratings del usuario:  [4.5, 3.0, 5.0, 2.5, 4.0, 1.5]\n",
            "Ratings mayores a 3.5:  [4.5, 5.0, 4.0]\n",
            "Ratings convertidos a escala del 1 al 100:  [45, 30, 50, 25, 40, 15]\n",
            "Ratings en string:  ['Alta', 'Media', 'Alta', 'Baja', 'Media', 'Baja']\n"
          ]
        }
      ]
    },
    {
      "cell_type": "markdown",
      "source": [
        "**4. Historial de visualización (Diccionarios)**\n",
        "\n",
        "Tienes un diccionario que representa el historial de un usuario:\n",
        "\n",
        "historial = {\n",
        "  \"Breaking Python\": 3,\n",
        "  \"Machine Love\": 5,\n",
        "  \"Data Science 101\": 2\n",
        "}\n",
        "\n",
        "Realiza lo siguiente:\n",
        "\n",
        "●\tAumenta en 1 la cantidad de veces que vio \"Data Science 101\"\n",
        "\n",
        "●\tAñade la serie \"AI Rebellion\" con 1 visualización\n",
        "\n",
        "●\tElimina \"Machine Love\" del historial\n",
        "\n",
        "●\tMuestra todas las series que el usuario vio más de 2 veces"
      ],
      "metadata": {
        "id": "YiMfN0Z4xupF"
      }
    },
    {
      "cell_type": "code",
      "source": [
        "# Historial de un usuario (diccionario)\n",
        "historial = {\n",
        "  \"Breaking Python\": 3,\n",
        "  \"Machine Love\": 5,\n",
        "  \"Data Science 101\": 2\n",
        "}\n",
        "print(\"Historial del usuario: \", historial)\n",
        "\n",
        "# Aumenta en 1 la cantidad de veces que vio \"Data Science 101\"\n",
        "historial[\"Data Science 101\"] += 1\n",
        "print(\"'Data Science 101' aumenta en 1 el rating: \", historial)\n",
        "\n",
        "# Añade la serie \"AI Rebellion\" con 1 visualización\n",
        "historial[\"AI Rebellion\"] = 1\n",
        "print(\"Se añadió 'AI Rebellion' con 1 visualización: \", historial)\n",
        "\n",
        "# Elimina \"Machine Love\" del historial\n",
        "del historial[\"Machine Love\"]\n",
        "print(\"Se eliminó 'Machine Love' de la lista de visualización: \", historial)\n",
        "\n",
        "# Mostrando todas las series que el usuario vio más de 2 veces\n",
        "series_mas_de_2_visualizaciones = [serie for serie, rating in historial.items() if rating > 2]\n",
        "print(\"Series que el usuario vio más de 2 veces: \", series_mas_de_2_visualizaciones)"
      ],
      "metadata": {
        "colab": {
          "base_uri": "https://localhost:8080/"
        },
        "id": "edlfnfAhx1uF",
        "outputId": "b02a83d6-0251-4706-a3f2-7856137e1917"
      },
      "execution_count": 21,
      "outputs": [
        {
          "output_type": "stream",
          "name": "stdout",
          "text": [
            "Historial del usuario:  {'Breaking Python': 3, 'Machine Love': 5, 'Data Science 101': 2}\n",
            "'Data Science 101' aumenta en 1 el rating:  {'Breaking Python': 3, 'Machine Love': 5, 'Data Science 101': 3}\n",
            "Se añadió 'AI Rebellion' con 1 visualización:  {'Breaking Python': 3, 'Machine Love': 5, 'Data Science 101': 3, 'AI Rebellion': 1}\n",
            "Se eliminó 'Machine Love' de la lista de visualización:  {'Breaking Python': 3, 'Data Science 101': 3, 'AI Rebellion': 1}\n",
            "Series que el usuario vio más de 2 veces:  ['Breaking Python', 'Data Science 101']\n"
          ]
        }
      ]
    },
    {
      "cell_type": "markdown",
      "source": [],
      "metadata": {
        "id": "FDBuotQdyor6"
      }
    },
    {
      "cell_type": "markdown",
      "source": [
        "**5. Usuarios únicos por serie (Sets)**\n",
        "\n",
        "Tienes la siguiente información:\n",
        "\n",
        "usuarios_serie_A = {\"ana\", \"luis\", \"pedro\", \"maria\"}\n",
        "\n",
        "usuarios_serie_B = {\"maria\", \"pedro\", \"carla\", \"lucas\"}\n",
        "\n",
        "Usando sets:\n",
        "\n",
        "●\tEncuentra qué usuarios vieron ambas series\n",
        "\n",
        "●\tQué usuarios vieron solo la serie A\n",
        "\n",
        "●\tQué usuarios únicos vieron al menos una de las dos\n"
      ],
      "metadata": {
        "id": "RRl5MSo20HrF"
      }
    },
    {
      "cell_type": "code",
      "source": [
        "# Usuarios únicos por serie (Sets)\n",
        "usuarios_serie_A = {\"ana\", \"luis\", \"pedro\", \"maria\"}\n",
        "usuarios_serie_B = {\"maria\", \"pedro\", \"carla\", \"lucas\"}\n",
        "\n",
        "# Encuentra qué usuarios vieron ambas series\n",
        "usuarios_ambas_series = usuarios_serie_A.intersection(usuarios_serie_B)\n",
        "print(\"Usuarios que vieron ambas series: \", usuarios_ambas_series)\n",
        "\n",
        "# Usuarios vieron solo la serie A\n",
        "#usuarios_solo_vieron_serie_A = usuarios_serie_A.difference(usuarios_serie_B)\n",
        "usuarios_solo_vieron_serie_A = usuarios_serie_A - usuarios_serie_B\n",
        "print(\"Usuarios que vieron solo la serie A: \", usuarios_solo_vieron_serie_A)\n",
        "\n",
        "# Usuarios únicos que vieron al menos una de las dos\n",
        "usuarios_al_menos_una_serie = usuarios_serie_A.union(usuarios_serie_B)\n",
        "print(\"Usuarios que vieron al menos una de las dos series: \", usuarios_al_menos_una_serie)"
      ],
      "metadata": {
        "colab": {
          "base_uri": "https://localhost:8080/"
        },
        "id": "Xz4Rzn9Z0Nlr",
        "outputId": "d24776c6-3ffc-4a8a-cb48-2c1972e6f3bf"
      },
      "execution_count": 25,
      "outputs": [
        {
          "output_type": "stream",
          "name": "stdout",
          "text": [
            "Usuarios que vieron ambas series:  {'pedro', 'maria'}\n",
            "Usuarios que vieron solo la serie A:  {'luis', 'ana'}\n",
            "Usuarios que vieron al menos una de las dos series:  {'carla', 'maria', 'pedro', 'lucas', 'ana', 'luis'}\n"
          ]
        }
      ]
    },
    {
      "cell_type": "markdown",
      "source": [
        "**6. Recomendaciones compartidas (Diccionario + Sets)**\n",
        "\n",
        "Tienes una estructura con recomendaciones por usuario:\n",
        "\n",
        "recomendaciones = {\n",
        "  \"ana\": {\"Machine Love\", \"AI Rebellion\"},\n",
        "  \"luis\": {\"AI Rebellion\", \"Debug Wars\"},\n",
        "  \"pedro\": {\"Debug Wars\", \"Machine Love\"}\n",
        "}\n",
        "\n",
        "Encuentra con código:\n",
        "\n",
        "●\tLas series que fueron recomendadas a todos\n",
        "\n",
        "●\tLas series recomendadas a al menos dos personas\n",
        "\n",
        "●\tLas series recomendadas solo a una persona\n"
      ],
      "metadata": {
        "id": "rvJHBa0v1JpL"
      }
    },
    {
      "cell_type": "code",
      "source": [
        "# Recomendaciones compartidas (Diccionario + Sets)\n",
        "recomendaciones = {\n",
        "  \"ana\": {\"Machine Love\", \"AI Rebellion\"},\n",
        "  \"luis\": {\"AI Rebellion\", \"Debug Wars\"},\n",
        "  \"pedro\": {\"Debug Wars\", \"Machine Love\"}\n",
        "}\n",
        "\n",
        "# Encontrar series recomendadas a todos (intersección de conjuntos)\n",
        "recomendadas_todos = set.intersection(*recomendaciones.values())\n",
        "print(\"Series recomendadas a todos:\", recomendadas_todos)\n",
        "\n",
        "# Encontrar series recomendadas a al menos dos personas (unión - diferencias individuales)\n",
        "recomendadas_varios = {serie for serie in set.union(*recomendaciones.values()) if sum(serie in rec for rec in recomendaciones.values()) >= 2}\n",
        "print(\"Series recomendadas a al menos dos personas:\", recomendadas_varios)\n",
        "\n",
        "# Encontrar series recomendadas solo a una persona\n",
        "recomendadas_solo_una = {serie for serie in set.union(*recomendaciones.values()) if sum(serie in rec for rec in recomendaciones.values()) == 1}\n",
        "print(\"Series recomendadas solo a una persona:\", recomendadas_solo_una)"
      ],
      "metadata": {
        "colab": {
          "base_uri": "https://localhost:8080/"
        },
        "id": "THcaRj7w1QNi",
        "outputId": "65848e97-d7b8-4c4f-92fd-284a40752a44"
      },
      "execution_count": 34,
      "outputs": [
        {
          "output_type": "stream",
          "name": "stdout",
          "text": [
            "Series recomendadas a todos: set()\n",
            "Series recomendadas a al menos dos personas: {'Debug Wars', 'AI Rebellion', 'Machine Love'}\n",
            "Series recomendadas solo a una persona: set()\n"
          ]
        }
      ]
    },
    {
      "cell_type": "markdown",
      "source": [
        "**7. Transformar ratings (Tuplas + comprensión de diccionario)**\n",
        "\n",
        "Tienes una lista de tuplas con (serie, rating):\n",
        "\n",
        "puntuaciones = [(\"Breaking Python\", 4.0), (\"AI Rebellion\", 5.0), (\"Debug Wars\", 2.0)]\n",
        "\n",
        "Crea un diccionario en el formato:\n",
        "{\n",
        "  \"Breaking Python\": \"Buena\",\n",
        "  \"AI Rebellion\": \"Excelente\",\n",
        "  \"Debug Wars\": \"Regular\"\n",
        "}\n",
        "\n",
        "Regla:\n",
        "\n",
        "●\tRating >= 4.5 → \"Excelente\"\n",
        "\n",
        "●\t3 <= rating < 4.5 → \"Buena\"\n",
        "\n",
        "●\t< 3 → \"Regular\""
      ],
      "metadata": {
        "id": "XB2ZUtjA2iCO"
      }
    },
    {
      "cell_type": "code",
      "source": [
        "# Transformar ratings (Tuplas + comprensión de diccionario)\n",
        "puntuaciones = [(\"Breaking Python\", 4.0), (\"AI Rebellion\", 5.0), (\"Debug Wars\", 2.0)]\n",
        "\n",
        "# Crea un diccionario en el formato: { \"Breaking Python\": \"Buena\", \"AI Rebellion\": \"Excelente\", \"Debug Wars\": \"Regular\" }\n",
        "puntuaciones_dict = {serie: (\"Excelente\" if rating >= 4.5 else \"Buena\" if 3 <= rating < 4.5 else \"Regular\") for serie, rating in puntuaciones}\n",
        "\n",
        "# Mostrar el resultado\n",
        "print(puntuaciones_dict)"
      ],
      "metadata": {
        "colab": {
          "base_uri": "https://localhost:8080/"
        },
        "id": "7hIRXXkO2qEV",
        "outputId": "3e29cd91-d6f5-452d-a3af-a24d7181ba62"
      },
      "execution_count": 35,
      "outputs": [
        {
          "output_type": "stream",
          "name": "stdout",
          "text": [
            "{'Breaking Python': 'Buena', 'AI Rebellion': 'Excelente', 'Debug Wars': 'Regular'}\n"
          ]
        }
      ]
    },
    {
      "cell_type": "markdown",
      "source": [
        "**8. Usuarios y géneros favoritos (Diccionario + slicing)**\n",
        "\n",
        "Cada usuario tiene una lista de sus géneros preferidos (ordenados por preferencia):\n",
        "\n",
        "gustos = {\n",
        "  \"ana\": [\"Sci-Fi\", \"Drama\", \"Documental\"],\n",
        "  \"luis\": [\"Comedia\", \"Acción\", \"Sci-Fi\"],\n",
        "  \"pedro\": [\"Drama\", \"Sci-Fi\", \"Romance\"]\n",
        "}\n",
        "\n",
        "Realiza:\n",
        "\n",
        "●\tUna lista con el primer género favorito de cada usuario\n",
        "\n",
        "●\tUna lista con todos los géneros mencionados sin repeticiones\n",
        "\n",
        "●\t¿Cuál género aparece más veces en la primera posición?"
      ],
      "metadata": {
        "id": "BqrZsnli3BHe"
      }
    },
    {
      "cell_type": "code",
      "source": [
        "# Usuarios y géneros favoritos (Diccionario + slicing)\n",
        "gustos = {\n",
        "  \"ana\": [\"Sci-Fi\", \"Drama\", \"Documental\"],\n",
        "  \"luis\": [\"Comedia\", \"Acción\", \"Sci-Fi\"],\n",
        "  \"pedro\": [\"Drama\", \"Sci-Fi\", \"Romance\"]\n",
        "}\n",
        "\n",
        "# Lista con el primer género favorito de cada usuario\n",
        "primer_genero_favorito = [usuario[0] for usuario in gustos.values()]\n",
        "print(\"Primer género favorito de cada usuario:\", primer_genero_favorito)\n",
        "\n",
        "# Una lista con todos los géneros mencionados sin repeticiones\n",
        "generos_mencionados = set([genero for lista_generos in gustos.values() for genero in lista_generos])\n",
        "print(\"Géneros mencionados sin repeticiones:\", generos_mencionados)\n",
        "\n",
        "# ¿Cuál género aparece más veces en la primera posición?\n",
        "generos_primer_posicion = [genero for lista_generos in gustos.values() for genero in lista_generos[:1]]\n",
        "generos_primer_posicion_count = {genero: generos_primer_posicion.count(genero) for genero in generos_primer_posicion}\n",
        "\n",
        "# Mostrar el que se repite mas veces\n",
        "print(\"Género que se repite más veces en la primera posición:\", max(generos_primer_posicion_count, key=generos_primer_posicion_count.get))"
      ],
      "metadata": {
        "colab": {
          "base_uri": "https://localhost:8080/"
        },
        "id": "tQR5NtSh3Ii3",
        "outputId": "89c53701-8a2b-4091-da03-5e7fca1479d4"
      },
      "execution_count": 41,
      "outputs": [
        {
          "output_type": "stream",
          "name": "stdout",
          "text": [
            "Primer género favorito de cada usuario: ['Sci-Fi', 'Comedia', 'Drama']\n",
            "Géneros mencionados sin repeticiones: {'Documental', 'Sci-Fi', 'Drama', 'Romance', 'Acción', 'Comedia'}\n",
            "Género que se repite más veces en la primera posición: Sci-Fi\n",
            "{'Sci-Fi': 1, 'Comedia': 1, 'Drama': 1}\n"
          ]
        }
      ]
    },
    {
      "cell_type": "markdown",
      "source": [
        "**9. Resumen de votos por serie (Diccionario + listas)**\n",
        "\n",
        "Tienes una lista de votos como pares (serie, puntaje):\n",
        "\n",
        "votos = [(\"Breaking Python\", 5), (\"AI Rebellion\", 4), (\"Breaking Python\", 4), (\"Debug Wars\", 3), (\"AI Rebellion\", 5)]\n",
        "\n",
        "Crea un diccionario donde la clave sea la serie y el valor una lista con todos sus votos.\n",
        "\n",
        "Ejemplo:\n",
        "{\n",
        "  \"Breaking Python\": [5, 4],\n",
        "  ...\n",
        "}\n",
        "\n",
        "Luego, calcula el promedio de rating de cada serie."
      ],
      "metadata": {
        "id": "fjqeQnJy4fpJ"
      }
    },
    {
      "cell_type": "code",
      "source": [
        "# Resumen de votos por serie (Diccionario + listas)\n",
        "votos = [(\"Breaking Python\", 5), (\"AI Rebellion\", 4), (\"Breaking Python\", 4), (\"Debug Wars\", 3), (\"AI Rebellion\", 5)]\n",
        "\n",
        "# Diccionario donde la clave sea la serie y el valor una lista con todos sus votos.\n",
        "votos_por_serie = {}\n",
        "\n",
        "for serie, puntaje in votos:\n",
        "  if serie in votos_por_serie:\n",
        "    votos_por_serie[serie].append(puntaje)\n",
        "  else:\n",
        "    votos_por_serie[serie] = [puntaje]\n",
        "\n",
        "# Mostrar el resultado\n",
        "print(\"Serie y rating: \", votos_por_serie)\n",
        "\n",
        "# Promedio de rating de cada serie\n",
        "promedio_rating = {serie: sum(votos) / len(votos) for serie, votos in votos_por_serie.items()}\n",
        "\n",
        "# Mostrar el resultado\n",
        "print(\"Promedio de rating de cada serie: \", promedio_rating)"
      ],
      "metadata": {
        "colab": {
          "base_uri": "https://localhost:8080/"
        },
        "id": "ZjuRu4EL4tYx",
        "outputId": "fcbd26b1-3ae1-4f84-aef0-fdc97c961d93"
      },
      "execution_count": 45,
      "outputs": [
        {
          "output_type": "stream",
          "name": "stdout",
          "text": [
            "Serie y rating:  {'Breaking Python': [5, 4], 'AI Rebellion': [4, 5], 'Debug Wars': [3]}\n",
            "Promedio de rating de cada serie:  {'Breaking Python': 4.5, 'AI Rebellion': 4.5, 'Debug Wars': 3.0}\n"
          ]
        }
      ]
    },
    {
      "cell_type": "markdown",
      "source": [
        "**10. Motor básico de recomendaciones (Integrador)**\n",
        "\n",
        "Define una función recomendar_series(usuario, historial, catalogo) que:\n",
        "\n",
        "●\tReciba el nombre de usuario, su historial en forma de diccionario {serie: vistas} y un catálogo con todas las series disponibles.\n",
        "\n",
        "●\tDevuelva una lista de series del catálogo que no haya visto aún.\n",
        "\n",
        "Ejemplo:\n",
        "\n",
        "usuario = \"ana\"\n",
        "\n",
        "historial = {\"AI Rebellion\": 3, \"Debug Wars\": 1}\n",
        "\n",
        "catalogo = [\"AI Rebellion\", \"Debug Wars\", \"Machine Love\", \"Data Science 101\"]\n",
        "\n",
        "Resultado:\n",
        "[\"Machine Love\", \"Data Science 101\"]\n"
      ],
      "metadata": {
        "id": "lLotY5oG5lrM"
      }
    },
    {
      "cell_type": "code",
      "source": [
        "# Motor básico de recomendaciones (Integrador)\n",
        "\n",
        "# Función recomendar_series\n",
        "def recomendar_series(usuario, historial, catalogo):\n",
        "  # Series que el usuario no vio\n",
        "  series_no_vistas = [serie for serie in catalogo if serie not in historial]\n",
        "  return series_no_vistas\n",
        "\n",
        "# Test\n",
        "usuario = \"ana\"\n",
        "historial = {\"AI Rebellion\": 3, \"Debug Wars\": 1}\n",
        "catalogo = [\"AI Rebellion\", \"Debug Wars\", \"Machine Love\", \"Data Science 101\"]\n",
        "\n",
        "recomendaciones = recomendar_series(usuario, historial, catalogo)\n",
        "\n",
        "# Mostrar resultados\n",
        "print(\"Series que el usuario no vio:\", recomendaciones)"
      ],
      "metadata": {
        "colab": {
          "base_uri": "https://localhost:8080/"
        },
        "id": "lv01ryEI5w5D",
        "outputId": "d931a6e3-df7e-408a-b153-6b086c4a588f"
      },
      "execution_count": 48,
      "outputs": [
        {
          "output_type": "stream",
          "name": "stdout",
          "text": [
            "Series que el usuario no vio: ['Machine Love', 'Data Science 101']\n"
          ]
        }
      ]
    }
  ]
}